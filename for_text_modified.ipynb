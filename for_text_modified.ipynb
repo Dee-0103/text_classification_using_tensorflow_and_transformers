{
  "nbformat": 4,
  "nbformat_minor": 0,
  "metadata": {
    "colab": {
      "provenance": [],
      "gpuType": "T4"
    },
    "kernelspec": {
      "name": "python3",
      "display_name": "Python 3"
    },
    "language_info": {
      "name": "python"
    },
    "accelerator": "GPU"
  },
  "cells": [
    {
      "cell_type": "code",
      "source": [
        "!pip install tensorflow"
      ],
      "metadata": {
        "id": "aWZpI0psfC8Y",
        "colab": {
          "base_uri": "https://localhost:8080/"
        },
        "outputId": "14d8ce5a-4e0b-469d-a624-d48292be3729"
      },
      "execution_count": null,
      "outputs": [
        {
          "output_type": "stream",
          "name": "stdout",
          "text": [
            "Requirement already satisfied: tensorflow in /usr/local/lib/python3.10/dist-packages (2.15.0)\n",
            "Requirement already satisfied: absl-py>=1.0.0 in /usr/local/lib/python3.10/dist-packages (from tensorflow) (1.4.0)\n",
            "Requirement already satisfied: astunparse>=1.6.0 in /usr/local/lib/python3.10/dist-packages (from tensorflow) (1.6.3)\n",
            "Requirement already satisfied: flatbuffers>=23.5.26 in /usr/local/lib/python3.10/dist-packages (from tensorflow) (23.5.26)\n",
            "Requirement already satisfied: gast!=0.5.0,!=0.5.1,!=0.5.2,>=0.2.1 in /usr/local/lib/python3.10/dist-packages (from tensorflow) (0.5.4)\n",
            "Requirement already satisfied: google-pasta>=0.1.1 in /usr/local/lib/python3.10/dist-packages (from tensorflow) (0.2.0)\n",
            "Requirement already satisfied: h5py>=2.9.0 in /usr/local/lib/python3.10/dist-packages (from tensorflow) (3.9.0)\n",
            "Requirement already satisfied: libclang>=13.0.0 in /usr/local/lib/python3.10/dist-packages (from tensorflow) (16.0.6)\n",
            "Requirement already satisfied: ml-dtypes~=0.2.0 in /usr/local/lib/python3.10/dist-packages (from tensorflow) (0.2.0)\n",
            "Requirement already satisfied: numpy<2.0.0,>=1.23.5 in /usr/local/lib/python3.10/dist-packages (from tensorflow) (1.23.5)\n",
            "Requirement already satisfied: opt-einsum>=2.3.2 in /usr/local/lib/python3.10/dist-packages (from tensorflow) (3.3.0)\n",
            "Requirement already satisfied: packaging in /usr/local/lib/python3.10/dist-packages (from tensorflow) (23.2)\n",
            "Requirement already satisfied: protobuf!=4.21.0,!=4.21.1,!=4.21.2,!=4.21.3,!=4.21.4,!=4.21.5,<5.0.0dev,>=3.20.3 in /usr/local/lib/python3.10/dist-packages (from tensorflow) (3.20.3)\n",
            "Requirement already satisfied: setuptools in /usr/local/lib/python3.10/dist-packages (from tensorflow) (67.7.2)\n",
            "Requirement already satisfied: six>=1.12.0 in /usr/local/lib/python3.10/dist-packages (from tensorflow) (1.16.0)\n",
            "Requirement already satisfied: termcolor>=1.1.0 in /usr/local/lib/python3.10/dist-packages (from tensorflow) (2.4.0)\n",
            "Requirement already satisfied: typing-extensions>=3.6.6 in /usr/local/lib/python3.10/dist-packages (from tensorflow) (4.5.0)\n",
            "Requirement already satisfied: wrapt<1.15,>=1.11.0 in /usr/local/lib/python3.10/dist-packages (from tensorflow) (1.14.1)\n",
            "Requirement already satisfied: tensorflow-io-gcs-filesystem>=0.23.1 in /usr/local/lib/python3.10/dist-packages (from tensorflow) (0.35.0)\n",
            "Requirement already satisfied: grpcio<2.0,>=1.24.3 in /usr/local/lib/python3.10/dist-packages (from tensorflow) (1.60.0)\n",
            "Requirement already satisfied: tensorboard<2.16,>=2.15 in /usr/local/lib/python3.10/dist-packages (from tensorflow) (2.15.1)\n",
            "Requirement already satisfied: tensorflow-estimator<2.16,>=2.15.0 in /usr/local/lib/python3.10/dist-packages (from tensorflow) (2.15.0)\n",
            "Requirement already satisfied: keras<2.16,>=2.15.0 in /usr/local/lib/python3.10/dist-packages (from tensorflow) (2.15.0)\n",
            "Requirement already satisfied: wheel<1.0,>=0.23.0 in /usr/local/lib/python3.10/dist-packages (from astunparse>=1.6.0->tensorflow) (0.42.0)\n",
            "Requirement already satisfied: google-auth<3,>=1.6.3 in /usr/local/lib/python3.10/dist-packages (from tensorboard<2.16,>=2.15->tensorflow) (2.17.3)\n",
            "Requirement already satisfied: google-auth-oauthlib<2,>=0.5 in /usr/local/lib/python3.10/dist-packages (from tensorboard<2.16,>=2.15->tensorflow) (1.2.0)\n",
            "Requirement already satisfied: markdown>=2.6.8 in /usr/local/lib/python3.10/dist-packages (from tensorboard<2.16,>=2.15->tensorflow) (3.5.2)\n",
            "Requirement already satisfied: requests<3,>=2.21.0 in /usr/local/lib/python3.10/dist-packages (from tensorboard<2.16,>=2.15->tensorflow) (2.31.0)\n",
            "Requirement already satisfied: tensorboard-data-server<0.8.0,>=0.7.0 in /usr/local/lib/python3.10/dist-packages (from tensorboard<2.16,>=2.15->tensorflow) (0.7.2)\n",
            "Requirement already satisfied: werkzeug>=1.0.1 in /usr/local/lib/python3.10/dist-packages (from tensorboard<2.16,>=2.15->tensorflow) (3.0.1)\n",
            "Requirement already satisfied: cachetools<6.0,>=2.0.0 in /usr/local/lib/python3.10/dist-packages (from google-auth<3,>=1.6.3->tensorboard<2.16,>=2.15->tensorflow) (5.3.2)\n",
            "Requirement already satisfied: pyasn1-modules>=0.2.1 in /usr/local/lib/python3.10/dist-packages (from google-auth<3,>=1.6.3->tensorboard<2.16,>=2.15->tensorflow) (0.3.0)\n",
            "Requirement already satisfied: rsa<5,>=3.1.4 in /usr/local/lib/python3.10/dist-packages (from google-auth<3,>=1.6.3->tensorboard<2.16,>=2.15->tensorflow) (4.9)\n",
            "Requirement already satisfied: requests-oauthlib>=0.7.0 in /usr/local/lib/python3.10/dist-packages (from google-auth-oauthlib<2,>=0.5->tensorboard<2.16,>=2.15->tensorflow) (1.3.1)\n",
            "Requirement already satisfied: charset-normalizer<4,>=2 in /usr/local/lib/python3.10/dist-packages (from requests<3,>=2.21.0->tensorboard<2.16,>=2.15->tensorflow) (3.3.2)\n",
            "Requirement already satisfied: idna<4,>=2.5 in /usr/local/lib/python3.10/dist-packages (from requests<3,>=2.21.0->tensorboard<2.16,>=2.15->tensorflow) (3.6)\n",
            "Requirement already satisfied: urllib3<3,>=1.21.1 in /usr/local/lib/python3.10/dist-packages (from requests<3,>=2.21.0->tensorboard<2.16,>=2.15->tensorflow) (2.0.7)\n",
            "Requirement already satisfied: certifi>=2017.4.17 in /usr/local/lib/python3.10/dist-packages (from requests<3,>=2.21.0->tensorboard<2.16,>=2.15->tensorflow) (2023.11.17)\n",
            "Requirement already satisfied: MarkupSafe>=2.1.1 in /usr/local/lib/python3.10/dist-packages (from werkzeug>=1.0.1->tensorboard<2.16,>=2.15->tensorflow) (2.1.3)\n",
            "Requirement already satisfied: pyasn1<0.6.0,>=0.4.6 in /usr/local/lib/python3.10/dist-packages (from pyasn1-modules>=0.2.1->google-auth<3,>=1.6.3->tensorboard<2.16,>=2.15->tensorflow) (0.5.1)\n",
            "Requirement already satisfied: oauthlib>=3.0.0 in /usr/local/lib/python3.10/dist-packages (from requests-oauthlib>=0.7.0->google-auth-oauthlib<2,>=0.5->tensorboard<2.16,>=2.15->tensorflow) (3.2.2)\n"
          ]
        }
      ]
    },
    {
      "cell_type": "code",
      "execution_count": null,
      "metadata": {
        "id": "YkYC2Il94xRD"
      },
      "outputs": [],
      "source": [
        "import torch\n",
        "import pandas as pd\n",
        "import numpy as np\n",
        "import random\n",
        "from google.colab import drive\n",
        "from torch.optim import SGD\n",
        "from sklearn.model_selection import train_test_split\n",
        "import tqdm"
      ]
    },
    {
      "cell_type": "code",
      "execution_count": null,
      "metadata": {
        "id": "a6BRjW8nqFGP"
      },
      "outputs": [],
      "source": [
        "# Set a random seed for PyTorch, random, and NumPy\n",
        "seed = 42  # You can choose any seed value\n",
        "torch.manual_seed(seed)\n",
        "random.seed(seed)\n",
        "np.random.seed(seed)"
      ]
    },
    {
      "cell_type": "code",
      "execution_count": null,
      "metadata": {
        "id": "IIplMHyo5hjR"
      },
      "outputs": [],
      "source": [
        "device = torch.device(\"cuda\" if torch.cuda.is_available() else \"cpu\")"
      ]
    },
    {
      "cell_type": "code",
      "source": [
        "!pip install faker"
      ],
      "metadata": {
        "colab": {
          "base_uri": "https://localhost:8080/"
        },
        "id": "fIzUHOd2FesN",
        "outputId": "6ae50936-1339-4dca-bf66-d923ef4a9d61"
      },
      "execution_count": null,
      "outputs": [
        {
          "output_type": "stream",
          "name": "stdout",
          "text": [
            "Requirement already satisfied: faker in /usr/local/lib/python3.10/dist-packages (22.5.0)\n",
            "Requirement already satisfied: python-dateutil>=2.4 in /usr/local/lib/python3.10/dist-packages (from faker) (2.8.2)\n",
            "Requirement already satisfied: six>=1.5 in /usr/local/lib/python3.10/dist-packages (from python-dateutil>=2.4->faker) (1.16.0)\n"
          ]
        }
      ]
    },
    {
      "cell_type": "code",
      "source": [
        "import pandas as pd\n",
        "import numpy as np\n",
        "import faker\n",
        "from faker import Faker\n",
        "from google.colab import drive\n",
        "import random"
      ],
      "metadata": {
        "id": "czpXMJsy3miP"
      },
      "execution_count": null,
      "outputs": []
    },
    {
      "cell_type": "code",
      "execution_count": null,
      "metadata": {
        "id": "TEKCYL8B2AY1"
      },
      "outputs": [],
      "source": [
        "fake = Faker()"
      ]
    },
    {
      "cell_type": "code",
      "source": [
        "drive.mount(\"/content/drive\")\n",
        "link = \"/content/drive/My Drive/proper_data_new_copy.csv\"\n",
        "data = pd.read_csv(link, encoding='ISO-8859-1')\n",
        "data.head()"
      ],
      "metadata": {
        "colab": {
          "base_uri": "https://localhost:8080/",
          "height": 243
        },
        "id": "CZL3-Z_l2Dcz",
        "outputId": "b8340914-59c7-47b8-c4ce-e6288dbf662e"
      },
      "execution_count": null,
      "outputs": [
        {
          "output_type": "stream",
          "name": "stdout",
          "text": [
            "Drive already mounted at /content/drive; to attempt to forcibly remount, call drive.mount(\"/content/drive\", force_remount=True).\n"
          ]
        },
        {
          "output_type": "execute_result",
          "data": {
            "text/plain": [
              "                                             Address  Class\n",
              "0  733, Utsava, Chase Unions Marg, Venkatesapuram...      1\n",
              "1  309, Hrithika, Scott Ridge Chowk, Garmillapall...      1\n",
              "2  293, Charanya, Frost Track Raasta, Badkuleibir...      1\n",
              "3  503, Zelene, Fitzgerald Lock Galli, Taherpur, ...      1\n",
              "4  771, Tathyesh, Stone Loaf Galli, Amour, Around...      1"
            ],
            "text/html": [
              "\n",
              "  <div id=\"df-2748a9c1-93d6-4095-bff3-511dfceb5eec\" class=\"colab-df-container\">\n",
              "    <div>\n",
              "<style scoped>\n",
              "    .dataframe tbody tr th:only-of-type {\n",
              "        vertical-align: middle;\n",
              "    }\n",
              "\n",
              "    .dataframe tbody tr th {\n",
              "        vertical-align: top;\n",
              "    }\n",
              "\n",
              "    .dataframe thead th {\n",
              "        text-align: right;\n",
              "    }\n",
              "</style>\n",
              "<table border=\"1\" class=\"dataframe\">\n",
              "  <thead>\n",
              "    <tr style=\"text-align: right;\">\n",
              "      <th></th>\n",
              "      <th>Address</th>\n",
              "      <th>Class</th>\n",
              "    </tr>\n",
              "  </thead>\n",
              "  <tbody>\n",
              "    <tr>\n",
              "      <th>0</th>\n",
              "      <td>733, Utsava, Chase Unions Marg, Venkatesapuram...</td>\n",
              "      <td>1</td>\n",
              "    </tr>\n",
              "    <tr>\n",
              "      <th>1</th>\n",
              "      <td>309, Hrithika, Scott Ridge Chowk, Garmillapall...</td>\n",
              "      <td>1</td>\n",
              "    </tr>\n",
              "    <tr>\n",
              "      <th>2</th>\n",
              "      <td>293, Charanya, Frost Track Raasta, Badkuleibir...</td>\n",
              "      <td>1</td>\n",
              "    </tr>\n",
              "    <tr>\n",
              "      <th>3</th>\n",
              "      <td>503, Zelene, Fitzgerald Lock Galli, Taherpur, ...</td>\n",
              "      <td>1</td>\n",
              "    </tr>\n",
              "    <tr>\n",
              "      <th>4</th>\n",
              "      <td>771, Tathyesh, Stone Loaf Galli, Amour, Around...</td>\n",
              "      <td>1</td>\n",
              "    </tr>\n",
              "  </tbody>\n",
              "</table>\n",
              "</div>\n",
              "    <div class=\"colab-df-buttons\">\n",
              "\n",
              "  <div class=\"colab-df-container\">\n",
              "    <button class=\"colab-df-convert\" onclick=\"convertToInteractive('df-2748a9c1-93d6-4095-bff3-511dfceb5eec')\"\n",
              "            title=\"Convert this dataframe to an interactive table.\"\n",
              "            style=\"display:none;\">\n",
              "\n",
              "  <svg xmlns=\"http://www.w3.org/2000/svg\" height=\"24px\" viewBox=\"0 -960 960 960\">\n",
              "    <path d=\"M120-120v-720h720v720H120Zm60-500h600v-160H180v160Zm220 220h160v-160H400v160Zm0 220h160v-160H400v160ZM180-400h160v-160H180v160Zm440 0h160v-160H620v160ZM180-180h160v-160H180v160Zm440 0h160v-160H620v160Z\"/>\n",
              "  </svg>\n",
              "    </button>\n",
              "\n",
              "  <style>\n",
              "    .colab-df-container {\n",
              "      display:flex;\n",
              "      gap: 12px;\n",
              "    }\n",
              "\n",
              "    .colab-df-convert {\n",
              "      background-color: #E8F0FE;\n",
              "      border: none;\n",
              "      border-radius: 50%;\n",
              "      cursor: pointer;\n",
              "      display: none;\n",
              "      fill: #1967D2;\n",
              "      height: 32px;\n",
              "      padding: 0 0 0 0;\n",
              "      width: 32px;\n",
              "    }\n",
              "\n",
              "    .colab-df-convert:hover {\n",
              "      background-color: #E2EBFA;\n",
              "      box-shadow: 0px 1px 2px rgba(60, 64, 67, 0.3), 0px 1px 3px 1px rgba(60, 64, 67, 0.15);\n",
              "      fill: #174EA6;\n",
              "    }\n",
              "\n",
              "    .colab-df-buttons div {\n",
              "      margin-bottom: 4px;\n",
              "    }\n",
              "\n",
              "    [theme=dark] .colab-df-convert {\n",
              "      background-color: #3B4455;\n",
              "      fill: #D2E3FC;\n",
              "    }\n",
              "\n",
              "    [theme=dark] .colab-df-convert:hover {\n",
              "      background-color: #434B5C;\n",
              "      box-shadow: 0px 1px 3px 1px rgba(0, 0, 0, 0.15);\n",
              "      filter: drop-shadow(0px 1px 2px rgba(0, 0, 0, 0.3));\n",
              "      fill: #FFFFFF;\n",
              "    }\n",
              "  </style>\n",
              "\n",
              "    <script>\n",
              "      const buttonEl =\n",
              "        document.querySelector('#df-2748a9c1-93d6-4095-bff3-511dfceb5eec button.colab-df-convert');\n",
              "      buttonEl.style.display =\n",
              "        google.colab.kernel.accessAllowed ? 'block' : 'none';\n",
              "\n",
              "      async function convertToInteractive(key) {\n",
              "        const element = document.querySelector('#df-2748a9c1-93d6-4095-bff3-511dfceb5eec');\n",
              "        const dataTable =\n",
              "          await google.colab.kernel.invokeFunction('convertToInteractive',\n",
              "                                                    [key], {});\n",
              "        if (!dataTable) return;\n",
              "\n",
              "        const docLinkHtml = 'Like what you see? Visit the ' +\n",
              "          '<a target=\"_blank\" href=https://colab.research.google.com/notebooks/data_table.ipynb>data table notebook</a>'\n",
              "          + ' to learn more about interactive tables.';\n",
              "        element.innerHTML = '';\n",
              "        dataTable['output_type'] = 'display_data';\n",
              "        await google.colab.output.renderOutput(dataTable, element);\n",
              "        const docLink = document.createElement('div');\n",
              "        docLink.innerHTML = docLinkHtml;\n",
              "        element.appendChild(docLink);\n",
              "      }\n",
              "    </script>\n",
              "  </div>\n",
              "\n",
              "\n",
              "<div id=\"df-ab304604-d675-4938-a41b-adf908014609\">\n",
              "  <button class=\"colab-df-quickchart\" onclick=\"quickchart('df-ab304604-d675-4938-a41b-adf908014609')\"\n",
              "            title=\"Suggest charts\"\n",
              "            style=\"display:none;\">\n",
              "\n",
              "<svg xmlns=\"http://www.w3.org/2000/svg\" height=\"24px\"viewBox=\"0 0 24 24\"\n",
              "     width=\"24px\">\n",
              "    <g>\n",
              "        <path d=\"M19 3H5c-1.1 0-2 .9-2 2v14c0 1.1.9 2 2 2h14c1.1 0 2-.9 2-2V5c0-1.1-.9-2-2-2zM9 17H7v-7h2v7zm4 0h-2V7h2v10zm4 0h-2v-4h2v4z\"/>\n",
              "    </g>\n",
              "</svg>\n",
              "  </button>\n",
              "\n",
              "<style>\n",
              "  .colab-df-quickchart {\n",
              "      --bg-color: #E8F0FE;\n",
              "      --fill-color: #1967D2;\n",
              "      --hover-bg-color: #E2EBFA;\n",
              "      --hover-fill-color: #174EA6;\n",
              "      --disabled-fill-color: #AAA;\n",
              "      --disabled-bg-color: #DDD;\n",
              "  }\n",
              "\n",
              "  [theme=dark] .colab-df-quickchart {\n",
              "      --bg-color: #3B4455;\n",
              "      --fill-color: #D2E3FC;\n",
              "      --hover-bg-color: #434B5C;\n",
              "      --hover-fill-color: #FFFFFF;\n",
              "      --disabled-bg-color: #3B4455;\n",
              "      --disabled-fill-color: #666;\n",
              "  }\n",
              "\n",
              "  .colab-df-quickchart {\n",
              "    background-color: var(--bg-color);\n",
              "    border: none;\n",
              "    border-radius: 50%;\n",
              "    cursor: pointer;\n",
              "    display: none;\n",
              "    fill: var(--fill-color);\n",
              "    height: 32px;\n",
              "    padding: 0;\n",
              "    width: 32px;\n",
              "  }\n",
              "\n",
              "  .colab-df-quickchart:hover {\n",
              "    background-color: var(--hover-bg-color);\n",
              "    box-shadow: 0 1px 2px rgba(60, 64, 67, 0.3), 0 1px 3px 1px rgba(60, 64, 67, 0.15);\n",
              "    fill: var(--button-hover-fill-color);\n",
              "  }\n",
              "\n",
              "  .colab-df-quickchart-complete:disabled,\n",
              "  .colab-df-quickchart-complete:disabled:hover {\n",
              "    background-color: var(--disabled-bg-color);\n",
              "    fill: var(--disabled-fill-color);\n",
              "    box-shadow: none;\n",
              "  }\n",
              "\n",
              "  .colab-df-spinner {\n",
              "    border: 2px solid var(--fill-color);\n",
              "    border-color: transparent;\n",
              "    border-bottom-color: var(--fill-color);\n",
              "    animation:\n",
              "      spin 1s steps(1) infinite;\n",
              "  }\n",
              "\n",
              "  @keyframes spin {\n",
              "    0% {\n",
              "      border-color: transparent;\n",
              "      border-bottom-color: var(--fill-color);\n",
              "      border-left-color: var(--fill-color);\n",
              "    }\n",
              "    20% {\n",
              "      border-color: transparent;\n",
              "      border-left-color: var(--fill-color);\n",
              "      border-top-color: var(--fill-color);\n",
              "    }\n",
              "    30% {\n",
              "      border-color: transparent;\n",
              "      border-left-color: var(--fill-color);\n",
              "      border-top-color: var(--fill-color);\n",
              "      border-right-color: var(--fill-color);\n",
              "    }\n",
              "    40% {\n",
              "      border-color: transparent;\n",
              "      border-right-color: var(--fill-color);\n",
              "      border-top-color: var(--fill-color);\n",
              "    }\n",
              "    60% {\n",
              "      border-color: transparent;\n",
              "      border-right-color: var(--fill-color);\n",
              "    }\n",
              "    80% {\n",
              "      border-color: transparent;\n",
              "      border-right-color: var(--fill-color);\n",
              "      border-bottom-color: var(--fill-color);\n",
              "    }\n",
              "    90% {\n",
              "      border-color: transparent;\n",
              "      border-bottom-color: var(--fill-color);\n",
              "    }\n",
              "  }\n",
              "</style>\n",
              "\n",
              "  <script>\n",
              "    async function quickchart(key) {\n",
              "      const quickchartButtonEl =\n",
              "        document.querySelector('#' + key + ' button');\n",
              "      quickchartButtonEl.disabled = true;  // To prevent multiple clicks.\n",
              "      quickchartButtonEl.classList.add('colab-df-spinner');\n",
              "      try {\n",
              "        const charts = await google.colab.kernel.invokeFunction(\n",
              "            'suggestCharts', [key], {});\n",
              "      } catch (error) {\n",
              "        console.error('Error during call to suggestCharts:', error);\n",
              "      }\n",
              "      quickchartButtonEl.classList.remove('colab-df-spinner');\n",
              "      quickchartButtonEl.classList.add('colab-df-quickchart-complete');\n",
              "    }\n",
              "    (() => {\n",
              "      let quickchartButtonEl =\n",
              "        document.querySelector('#df-ab304604-d675-4938-a41b-adf908014609 button');\n",
              "      quickchartButtonEl.style.display =\n",
              "        google.colab.kernel.accessAllowed ? 'block' : 'none';\n",
              "    })();\n",
              "  </script>\n",
              "</div>\n",
              "\n",
              "    </div>\n",
              "  </div>\n"
            ]
          },
          "metadata": {},
          "execution_count": 242
        }
      ]
    },
    {
      "cell_type": "code",
      "source": [
        "data.info()"
      ],
      "metadata": {
        "colab": {
          "base_uri": "https://localhost:8080/"
        },
        "id": "aujjJyJn3tYi",
        "outputId": "98702599-17f9-4ff1-ebee-0a368453d5a6"
      },
      "execution_count": null,
      "outputs": [
        {
          "output_type": "stream",
          "name": "stdout",
          "text": [
            "<class 'pandas.core.frame.DataFrame'>\n",
            "RangeIndex: 79563 entries, 0 to 79562\n",
            "Data columns (total 2 columns):\n",
            " #   Column   Non-Null Count  Dtype \n",
            "---  ------   --------------  ----- \n",
            " 0   Address  79563 non-null  object\n",
            " 1   Class    79563 non-null  int64 \n",
            "dtypes: int64(1), object(1)\n",
            "memory usage: 1.2+ MB\n"
          ]
        }
      ]
    },
    {
      "cell_type": "code",
      "source": [
        "def add_commas(sentence):\n",
        "    num_commas = random.randint(1, 2)\n",
        "    for _ in range(num_commas):\n",
        "        # Find a space-separated word and insert a comma after it\n",
        "        words = sentence.split()\n",
        "        if words:\n",
        "            position = random.randint(0, len(words) - 1)\n",
        "            words[position] += ','\n",
        "            sentence = ' '.join(words)\n",
        "    return sentence\n",
        "\n",
        "# Generate sentences, add commas, and create a DataFrame\n",
        "num_sentences = 70000\n",
        "sentence_list = [add_commas(fake.sentence()) for _ in range(num_sentences)]\n",
        "\n",
        "# Create a DataFrame\n",
        "data_ = {'Type': sentence_list, 'Class': [0] * num_sentences}\n",
        "df = pd.DataFrame(data_)"
      ],
      "metadata": {
        "id": "-NKvpQM2BKDH"
      },
      "execution_count": null,
      "outputs": []
    },
    {
      "cell_type": "code",
      "source": [
        "df.head()"
      ],
      "metadata": {
        "colab": {
          "base_uri": "https://localhost:8080/",
          "height": 206
        },
        "id": "JpdSEuahBU9C",
        "outputId": "018f53f4-1bf2-447f-81e7-75d6823f89fb"
      },
      "execution_count": null,
      "outputs": [
        {
          "output_type": "execute_result",
          "data": {
            "text/plain": [
              "                                                Type  Class\n",
              "0  Better, billion determine reach history sea pe...      0\n",
              "1     Line cell,, energy support however table late.      0\n",
              "2                   First, find piece somebody them.      0\n",
              "3  Treat against beat professional center, attorn...      0\n",
              "4                                Choose,, so manage.      0"
            ],
            "text/html": [
              "\n",
              "  <div id=\"df-99a0fe56-880b-4412-9597-b44e8d4539ee\" class=\"colab-df-container\">\n",
              "    <div>\n",
              "<style scoped>\n",
              "    .dataframe tbody tr th:only-of-type {\n",
              "        vertical-align: middle;\n",
              "    }\n",
              "\n",
              "    .dataframe tbody tr th {\n",
              "        vertical-align: top;\n",
              "    }\n",
              "\n",
              "    .dataframe thead th {\n",
              "        text-align: right;\n",
              "    }\n",
              "</style>\n",
              "<table border=\"1\" class=\"dataframe\">\n",
              "  <thead>\n",
              "    <tr style=\"text-align: right;\">\n",
              "      <th></th>\n",
              "      <th>Type</th>\n",
              "      <th>Class</th>\n",
              "    </tr>\n",
              "  </thead>\n",
              "  <tbody>\n",
              "    <tr>\n",
              "      <th>0</th>\n",
              "      <td>Better, billion determine reach history sea pe...</td>\n",
              "      <td>0</td>\n",
              "    </tr>\n",
              "    <tr>\n",
              "      <th>1</th>\n",
              "      <td>Line cell,, energy support however table late.</td>\n",
              "      <td>0</td>\n",
              "    </tr>\n",
              "    <tr>\n",
              "      <th>2</th>\n",
              "      <td>First, find piece somebody them.</td>\n",
              "      <td>0</td>\n",
              "    </tr>\n",
              "    <tr>\n",
              "      <th>3</th>\n",
              "      <td>Treat against beat professional center, attorn...</td>\n",
              "      <td>0</td>\n",
              "    </tr>\n",
              "    <tr>\n",
              "      <th>4</th>\n",
              "      <td>Choose,, so manage.</td>\n",
              "      <td>0</td>\n",
              "    </tr>\n",
              "  </tbody>\n",
              "</table>\n",
              "</div>\n",
              "    <div class=\"colab-df-buttons\">\n",
              "\n",
              "  <div class=\"colab-df-container\">\n",
              "    <button class=\"colab-df-convert\" onclick=\"convertToInteractive('df-99a0fe56-880b-4412-9597-b44e8d4539ee')\"\n",
              "            title=\"Convert this dataframe to an interactive table.\"\n",
              "            style=\"display:none;\">\n",
              "\n",
              "  <svg xmlns=\"http://www.w3.org/2000/svg\" height=\"24px\" viewBox=\"0 -960 960 960\">\n",
              "    <path d=\"M120-120v-720h720v720H120Zm60-500h600v-160H180v160Zm220 220h160v-160H400v160Zm0 220h160v-160H400v160ZM180-400h160v-160H180v160Zm440 0h160v-160H620v160ZM180-180h160v-160H180v160Zm440 0h160v-160H620v160Z\"/>\n",
              "  </svg>\n",
              "    </button>\n",
              "\n",
              "  <style>\n",
              "    .colab-df-container {\n",
              "      display:flex;\n",
              "      gap: 12px;\n",
              "    }\n",
              "\n",
              "    .colab-df-convert {\n",
              "      background-color: #E8F0FE;\n",
              "      border: none;\n",
              "      border-radius: 50%;\n",
              "      cursor: pointer;\n",
              "      display: none;\n",
              "      fill: #1967D2;\n",
              "      height: 32px;\n",
              "      padding: 0 0 0 0;\n",
              "      width: 32px;\n",
              "    }\n",
              "\n",
              "    .colab-df-convert:hover {\n",
              "      background-color: #E2EBFA;\n",
              "      box-shadow: 0px 1px 2px rgba(60, 64, 67, 0.3), 0px 1px 3px 1px rgba(60, 64, 67, 0.15);\n",
              "      fill: #174EA6;\n",
              "    }\n",
              "\n",
              "    .colab-df-buttons div {\n",
              "      margin-bottom: 4px;\n",
              "    }\n",
              "\n",
              "    [theme=dark] .colab-df-convert {\n",
              "      background-color: #3B4455;\n",
              "      fill: #D2E3FC;\n",
              "    }\n",
              "\n",
              "    [theme=dark] .colab-df-convert:hover {\n",
              "      background-color: #434B5C;\n",
              "      box-shadow: 0px 1px 3px 1px rgba(0, 0, 0, 0.15);\n",
              "      filter: drop-shadow(0px 1px 2px rgba(0, 0, 0, 0.3));\n",
              "      fill: #FFFFFF;\n",
              "    }\n",
              "  </style>\n",
              "\n",
              "    <script>\n",
              "      const buttonEl =\n",
              "        document.querySelector('#df-99a0fe56-880b-4412-9597-b44e8d4539ee button.colab-df-convert');\n",
              "      buttonEl.style.display =\n",
              "        google.colab.kernel.accessAllowed ? 'block' : 'none';\n",
              "\n",
              "      async function convertToInteractive(key) {\n",
              "        const element = document.querySelector('#df-99a0fe56-880b-4412-9597-b44e8d4539ee');\n",
              "        const dataTable =\n",
              "          await google.colab.kernel.invokeFunction('convertToInteractive',\n",
              "                                                    [key], {});\n",
              "        if (!dataTable) return;\n",
              "\n",
              "        const docLinkHtml = 'Like what you see? Visit the ' +\n",
              "          '<a target=\"_blank\" href=https://colab.research.google.com/notebooks/data_table.ipynb>data table notebook</a>'\n",
              "          + ' to learn more about interactive tables.';\n",
              "        element.innerHTML = '';\n",
              "        dataTable['output_type'] = 'display_data';\n",
              "        await google.colab.output.renderOutput(dataTable, element);\n",
              "        const docLink = document.createElement('div');\n",
              "        docLink.innerHTML = docLinkHtml;\n",
              "        element.appendChild(docLink);\n",
              "      }\n",
              "    </script>\n",
              "  </div>\n",
              "\n",
              "\n",
              "<div id=\"df-a02168a5-64f3-40fb-8f3b-c268309326d3\">\n",
              "  <button class=\"colab-df-quickchart\" onclick=\"quickchart('df-a02168a5-64f3-40fb-8f3b-c268309326d3')\"\n",
              "            title=\"Suggest charts\"\n",
              "            style=\"display:none;\">\n",
              "\n",
              "<svg xmlns=\"http://www.w3.org/2000/svg\" height=\"24px\"viewBox=\"0 0 24 24\"\n",
              "     width=\"24px\">\n",
              "    <g>\n",
              "        <path d=\"M19 3H5c-1.1 0-2 .9-2 2v14c0 1.1.9 2 2 2h14c1.1 0 2-.9 2-2V5c0-1.1-.9-2-2-2zM9 17H7v-7h2v7zm4 0h-2V7h2v10zm4 0h-2v-4h2v4z\"/>\n",
              "    </g>\n",
              "</svg>\n",
              "  </button>\n",
              "\n",
              "<style>\n",
              "  .colab-df-quickchart {\n",
              "      --bg-color: #E8F0FE;\n",
              "      --fill-color: #1967D2;\n",
              "      --hover-bg-color: #E2EBFA;\n",
              "      --hover-fill-color: #174EA6;\n",
              "      --disabled-fill-color: #AAA;\n",
              "      --disabled-bg-color: #DDD;\n",
              "  }\n",
              "\n",
              "  [theme=dark] .colab-df-quickchart {\n",
              "      --bg-color: #3B4455;\n",
              "      --fill-color: #D2E3FC;\n",
              "      --hover-bg-color: #434B5C;\n",
              "      --hover-fill-color: #FFFFFF;\n",
              "      --disabled-bg-color: #3B4455;\n",
              "      --disabled-fill-color: #666;\n",
              "  }\n",
              "\n",
              "  .colab-df-quickchart {\n",
              "    background-color: var(--bg-color);\n",
              "    border: none;\n",
              "    border-radius: 50%;\n",
              "    cursor: pointer;\n",
              "    display: none;\n",
              "    fill: var(--fill-color);\n",
              "    height: 32px;\n",
              "    padding: 0;\n",
              "    width: 32px;\n",
              "  }\n",
              "\n",
              "  .colab-df-quickchart:hover {\n",
              "    background-color: var(--hover-bg-color);\n",
              "    box-shadow: 0 1px 2px rgba(60, 64, 67, 0.3), 0 1px 3px 1px rgba(60, 64, 67, 0.15);\n",
              "    fill: var(--button-hover-fill-color);\n",
              "  }\n",
              "\n",
              "  .colab-df-quickchart-complete:disabled,\n",
              "  .colab-df-quickchart-complete:disabled:hover {\n",
              "    background-color: var(--disabled-bg-color);\n",
              "    fill: var(--disabled-fill-color);\n",
              "    box-shadow: none;\n",
              "  }\n",
              "\n",
              "  .colab-df-spinner {\n",
              "    border: 2px solid var(--fill-color);\n",
              "    border-color: transparent;\n",
              "    border-bottom-color: var(--fill-color);\n",
              "    animation:\n",
              "      spin 1s steps(1) infinite;\n",
              "  }\n",
              "\n",
              "  @keyframes spin {\n",
              "    0% {\n",
              "      border-color: transparent;\n",
              "      border-bottom-color: var(--fill-color);\n",
              "      border-left-color: var(--fill-color);\n",
              "    }\n",
              "    20% {\n",
              "      border-color: transparent;\n",
              "      border-left-color: var(--fill-color);\n",
              "      border-top-color: var(--fill-color);\n",
              "    }\n",
              "    30% {\n",
              "      border-color: transparent;\n",
              "      border-left-color: var(--fill-color);\n",
              "      border-top-color: var(--fill-color);\n",
              "      border-right-color: var(--fill-color);\n",
              "    }\n",
              "    40% {\n",
              "      border-color: transparent;\n",
              "      border-right-color: var(--fill-color);\n",
              "      border-top-color: var(--fill-color);\n",
              "    }\n",
              "    60% {\n",
              "      border-color: transparent;\n",
              "      border-right-color: var(--fill-color);\n",
              "    }\n",
              "    80% {\n",
              "      border-color: transparent;\n",
              "      border-right-color: var(--fill-color);\n",
              "      border-bottom-color: var(--fill-color);\n",
              "    }\n",
              "    90% {\n",
              "      border-color: transparent;\n",
              "      border-bottom-color: var(--fill-color);\n",
              "    }\n",
              "  }\n",
              "</style>\n",
              "\n",
              "  <script>\n",
              "    async function quickchart(key) {\n",
              "      const quickchartButtonEl =\n",
              "        document.querySelector('#' + key + ' button');\n",
              "      quickchartButtonEl.disabled = true;  // To prevent multiple clicks.\n",
              "      quickchartButtonEl.classList.add('colab-df-spinner');\n",
              "      try {\n",
              "        const charts = await google.colab.kernel.invokeFunction(\n",
              "            'suggestCharts', [key], {});\n",
              "      } catch (error) {\n",
              "        console.error('Error during call to suggestCharts:', error);\n",
              "      }\n",
              "      quickchartButtonEl.classList.remove('colab-df-spinner');\n",
              "      quickchartButtonEl.classList.add('colab-df-quickchart-complete');\n",
              "    }\n",
              "    (() => {\n",
              "      let quickchartButtonEl =\n",
              "        document.querySelector('#df-a02168a5-64f3-40fb-8f3b-c268309326d3 button');\n",
              "      quickchartButtonEl.style.display =\n",
              "        google.colab.kernel.accessAllowed ? 'block' : 'none';\n",
              "    })();\n",
              "  </script>\n",
              "</div>\n",
              "\n",
              "    </div>\n",
              "  </div>\n"
            ]
          },
          "metadata": {},
          "execution_count": 245
        }
      ]
    },
    {
      "cell_type": "code",
      "source": [
        "data.rename(columns = {'Address': 'Type'}, inplace = True)\n",
        "data.head()"
      ],
      "metadata": {
        "colab": {
          "base_uri": "https://localhost:8080/",
          "height": 206
        },
        "id": "svhI7MTzFY5K",
        "outputId": "892480c9-baf2-4238-a357-5ab4f0453064"
      },
      "execution_count": null,
      "outputs": [
        {
          "output_type": "execute_result",
          "data": {
            "text/plain": [
              "                                                Type  Class\n",
              "0  733, Utsava, Chase Unions Marg, Venkatesapuram...      1\n",
              "1  309, Hrithika, Scott Ridge Chowk, Garmillapall...      1\n",
              "2  293, Charanya, Frost Track Raasta, Badkuleibir...      1\n",
              "3  503, Zelene, Fitzgerald Lock Galli, Taherpur, ...      1\n",
              "4  771, Tathyesh, Stone Loaf Galli, Amour, Around...      1"
            ],
            "text/html": [
              "\n",
              "  <div id=\"df-0d4fcbd4-8f9b-467d-9370-6a9937f858a1\" class=\"colab-df-container\">\n",
              "    <div>\n",
              "<style scoped>\n",
              "    .dataframe tbody tr th:only-of-type {\n",
              "        vertical-align: middle;\n",
              "    }\n",
              "\n",
              "    .dataframe tbody tr th {\n",
              "        vertical-align: top;\n",
              "    }\n",
              "\n",
              "    .dataframe thead th {\n",
              "        text-align: right;\n",
              "    }\n",
              "</style>\n",
              "<table border=\"1\" class=\"dataframe\">\n",
              "  <thead>\n",
              "    <tr style=\"text-align: right;\">\n",
              "      <th></th>\n",
              "      <th>Type</th>\n",
              "      <th>Class</th>\n",
              "    </tr>\n",
              "  </thead>\n",
              "  <tbody>\n",
              "    <tr>\n",
              "      <th>0</th>\n",
              "      <td>733, Utsava, Chase Unions Marg, Venkatesapuram...</td>\n",
              "      <td>1</td>\n",
              "    </tr>\n",
              "    <tr>\n",
              "      <th>1</th>\n",
              "      <td>309, Hrithika, Scott Ridge Chowk, Garmillapall...</td>\n",
              "      <td>1</td>\n",
              "    </tr>\n",
              "    <tr>\n",
              "      <th>2</th>\n",
              "      <td>293, Charanya, Frost Track Raasta, Badkuleibir...</td>\n",
              "      <td>1</td>\n",
              "    </tr>\n",
              "    <tr>\n",
              "      <th>3</th>\n",
              "      <td>503, Zelene, Fitzgerald Lock Galli, Taherpur, ...</td>\n",
              "      <td>1</td>\n",
              "    </tr>\n",
              "    <tr>\n",
              "      <th>4</th>\n",
              "      <td>771, Tathyesh, Stone Loaf Galli, Amour, Around...</td>\n",
              "      <td>1</td>\n",
              "    </tr>\n",
              "  </tbody>\n",
              "</table>\n",
              "</div>\n",
              "    <div class=\"colab-df-buttons\">\n",
              "\n",
              "  <div class=\"colab-df-container\">\n",
              "    <button class=\"colab-df-convert\" onclick=\"convertToInteractive('df-0d4fcbd4-8f9b-467d-9370-6a9937f858a1')\"\n",
              "            title=\"Convert this dataframe to an interactive table.\"\n",
              "            style=\"display:none;\">\n",
              "\n",
              "  <svg xmlns=\"http://www.w3.org/2000/svg\" height=\"24px\" viewBox=\"0 -960 960 960\">\n",
              "    <path d=\"M120-120v-720h720v720H120Zm60-500h600v-160H180v160Zm220 220h160v-160H400v160Zm0 220h160v-160H400v160ZM180-400h160v-160H180v160Zm440 0h160v-160H620v160ZM180-180h160v-160H180v160Zm440 0h160v-160H620v160Z\"/>\n",
              "  </svg>\n",
              "    </button>\n",
              "\n",
              "  <style>\n",
              "    .colab-df-container {\n",
              "      display:flex;\n",
              "      gap: 12px;\n",
              "    }\n",
              "\n",
              "    .colab-df-convert {\n",
              "      background-color: #E8F0FE;\n",
              "      border: none;\n",
              "      border-radius: 50%;\n",
              "      cursor: pointer;\n",
              "      display: none;\n",
              "      fill: #1967D2;\n",
              "      height: 32px;\n",
              "      padding: 0 0 0 0;\n",
              "      width: 32px;\n",
              "    }\n",
              "\n",
              "    .colab-df-convert:hover {\n",
              "      background-color: #E2EBFA;\n",
              "      box-shadow: 0px 1px 2px rgba(60, 64, 67, 0.3), 0px 1px 3px 1px rgba(60, 64, 67, 0.15);\n",
              "      fill: #174EA6;\n",
              "    }\n",
              "\n",
              "    .colab-df-buttons div {\n",
              "      margin-bottom: 4px;\n",
              "    }\n",
              "\n",
              "    [theme=dark] .colab-df-convert {\n",
              "      background-color: #3B4455;\n",
              "      fill: #D2E3FC;\n",
              "    }\n",
              "\n",
              "    [theme=dark] .colab-df-convert:hover {\n",
              "      background-color: #434B5C;\n",
              "      box-shadow: 0px 1px 3px 1px rgba(0, 0, 0, 0.15);\n",
              "      filter: drop-shadow(0px 1px 2px rgba(0, 0, 0, 0.3));\n",
              "      fill: #FFFFFF;\n",
              "    }\n",
              "  </style>\n",
              "\n",
              "    <script>\n",
              "      const buttonEl =\n",
              "        document.querySelector('#df-0d4fcbd4-8f9b-467d-9370-6a9937f858a1 button.colab-df-convert');\n",
              "      buttonEl.style.display =\n",
              "        google.colab.kernel.accessAllowed ? 'block' : 'none';\n",
              "\n",
              "      async function convertToInteractive(key) {\n",
              "        const element = document.querySelector('#df-0d4fcbd4-8f9b-467d-9370-6a9937f858a1');\n",
              "        const dataTable =\n",
              "          await google.colab.kernel.invokeFunction('convertToInteractive',\n",
              "                                                    [key], {});\n",
              "        if (!dataTable) return;\n",
              "\n",
              "        const docLinkHtml = 'Like what you see? Visit the ' +\n",
              "          '<a target=\"_blank\" href=https://colab.research.google.com/notebooks/data_table.ipynb>data table notebook</a>'\n",
              "          + ' to learn more about interactive tables.';\n",
              "        element.innerHTML = '';\n",
              "        dataTable['output_type'] = 'display_data';\n",
              "        await google.colab.output.renderOutput(dataTable, element);\n",
              "        const docLink = document.createElement('div');\n",
              "        docLink.innerHTML = docLinkHtml;\n",
              "        element.appendChild(docLink);\n",
              "      }\n",
              "    </script>\n",
              "  </div>\n",
              "\n",
              "\n",
              "<div id=\"df-8ba8a9d1-7a9b-441b-9f2f-8742b1ea3b6d\">\n",
              "  <button class=\"colab-df-quickchart\" onclick=\"quickchart('df-8ba8a9d1-7a9b-441b-9f2f-8742b1ea3b6d')\"\n",
              "            title=\"Suggest charts\"\n",
              "            style=\"display:none;\">\n",
              "\n",
              "<svg xmlns=\"http://www.w3.org/2000/svg\" height=\"24px\"viewBox=\"0 0 24 24\"\n",
              "     width=\"24px\">\n",
              "    <g>\n",
              "        <path d=\"M19 3H5c-1.1 0-2 .9-2 2v14c0 1.1.9 2 2 2h14c1.1 0 2-.9 2-2V5c0-1.1-.9-2-2-2zM9 17H7v-7h2v7zm4 0h-2V7h2v10zm4 0h-2v-4h2v4z\"/>\n",
              "    </g>\n",
              "</svg>\n",
              "  </button>\n",
              "\n",
              "<style>\n",
              "  .colab-df-quickchart {\n",
              "      --bg-color: #E8F0FE;\n",
              "      --fill-color: #1967D2;\n",
              "      --hover-bg-color: #E2EBFA;\n",
              "      --hover-fill-color: #174EA6;\n",
              "      --disabled-fill-color: #AAA;\n",
              "      --disabled-bg-color: #DDD;\n",
              "  }\n",
              "\n",
              "  [theme=dark] .colab-df-quickchart {\n",
              "      --bg-color: #3B4455;\n",
              "      --fill-color: #D2E3FC;\n",
              "      --hover-bg-color: #434B5C;\n",
              "      --hover-fill-color: #FFFFFF;\n",
              "      --disabled-bg-color: #3B4455;\n",
              "      --disabled-fill-color: #666;\n",
              "  }\n",
              "\n",
              "  .colab-df-quickchart {\n",
              "    background-color: var(--bg-color);\n",
              "    border: none;\n",
              "    border-radius: 50%;\n",
              "    cursor: pointer;\n",
              "    display: none;\n",
              "    fill: var(--fill-color);\n",
              "    height: 32px;\n",
              "    padding: 0;\n",
              "    width: 32px;\n",
              "  }\n",
              "\n",
              "  .colab-df-quickchart:hover {\n",
              "    background-color: var(--hover-bg-color);\n",
              "    box-shadow: 0 1px 2px rgba(60, 64, 67, 0.3), 0 1px 3px 1px rgba(60, 64, 67, 0.15);\n",
              "    fill: var(--button-hover-fill-color);\n",
              "  }\n",
              "\n",
              "  .colab-df-quickchart-complete:disabled,\n",
              "  .colab-df-quickchart-complete:disabled:hover {\n",
              "    background-color: var(--disabled-bg-color);\n",
              "    fill: var(--disabled-fill-color);\n",
              "    box-shadow: none;\n",
              "  }\n",
              "\n",
              "  .colab-df-spinner {\n",
              "    border: 2px solid var(--fill-color);\n",
              "    border-color: transparent;\n",
              "    border-bottom-color: var(--fill-color);\n",
              "    animation:\n",
              "      spin 1s steps(1) infinite;\n",
              "  }\n",
              "\n",
              "  @keyframes spin {\n",
              "    0% {\n",
              "      border-color: transparent;\n",
              "      border-bottom-color: var(--fill-color);\n",
              "      border-left-color: var(--fill-color);\n",
              "    }\n",
              "    20% {\n",
              "      border-color: transparent;\n",
              "      border-left-color: var(--fill-color);\n",
              "      border-top-color: var(--fill-color);\n",
              "    }\n",
              "    30% {\n",
              "      border-color: transparent;\n",
              "      border-left-color: var(--fill-color);\n",
              "      border-top-color: var(--fill-color);\n",
              "      border-right-color: var(--fill-color);\n",
              "    }\n",
              "    40% {\n",
              "      border-color: transparent;\n",
              "      border-right-color: var(--fill-color);\n",
              "      border-top-color: var(--fill-color);\n",
              "    }\n",
              "    60% {\n",
              "      border-color: transparent;\n",
              "      border-right-color: var(--fill-color);\n",
              "    }\n",
              "    80% {\n",
              "      border-color: transparent;\n",
              "      border-right-color: var(--fill-color);\n",
              "      border-bottom-color: var(--fill-color);\n",
              "    }\n",
              "    90% {\n",
              "      border-color: transparent;\n",
              "      border-bottom-color: var(--fill-color);\n",
              "    }\n",
              "  }\n",
              "</style>\n",
              "\n",
              "  <script>\n",
              "    async function quickchart(key) {\n",
              "      const quickchartButtonEl =\n",
              "        document.querySelector('#' + key + ' button');\n",
              "      quickchartButtonEl.disabled = true;  // To prevent multiple clicks.\n",
              "      quickchartButtonEl.classList.add('colab-df-spinner');\n",
              "      try {\n",
              "        const charts = await google.colab.kernel.invokeFunction(\n",
              "            'suggestCharts', [key], {});\n",
              "      } catch (error) {\n",
              "        console.error('Error during call to suggestCharts:', error);\n",
              "      }\n",
              "      quickchartButtonEl.classList.remove('colab-df-spinner');\n",
              "      quickchartButtonEl.classList.add('colab-df-quickchart-complete');\n",
              "    }\n",
              "    (() => {\n",
              "      let quickchartButtonEl =\n",
              "        document.querySelector('#df-8ba8a9d1-7a9b-441b-9f2f-8742b1ea3b6d button');\n",
              "      quickchartButtonEl.style.display =\n",
              "        google.colab.kernel.accessAllowed ? 'block' : 'none';\n",
              "    })();\n",
              "  </script>\n",
              "</div>\n",
              "\n",
              "    </div>\n",
              "  </div>\n"
            ]
          },
          "metadata": {},
          "execution_count": 246
        }
      ]
    },
    {
      "cell_type": "code",
      "source": [
        "final_df = pd.concat([data, df], ignore_index = True)"
      ],
      "metadata": {
        "id": "5yvrB_-aGm1_"
      },
      "execution_count": null,
      "outputs": []
    },
    {
      "cell_type": "code",
      "source": [
        "final_df.head()"
      ],
      "metadata": {
        "colab": {
          "base_uri": "https://localhost:8080/",
          "height": 206
        },
        "id": "7p10aAG6HK-p",
        "outputId": "36016b5c-19a9-41aa-ba17-d243a6c503c2"
      },
      "execution_count": null,
      "outputs": [
        {
          "output_type": "execute_result",
          "data": {
            "text/plain": [
              "                                                Type  Class\n",
              "0  733, Utsava, Chase Unions Marg, Venkatesapuram...      1\n",
              "1  309, Hrithika, Scott Ridge Chowk, Garmillapall...      1\n",
              "2  293, Charanya, Frost Track Raasta, Badkuleibir...      1\n",
              "3  503, Zelene, Fitzgerald Lock Galli, Taherpur, ...      1\n",
              "4  771, Tathyesh, Stone Loaf Galli, Amour, Around...      1"
            ],
            "text/html": [
              "\n",
              "  <div id=\"df-bf422465-7315-4b91-8dc8-a9603f662479\" class=\"colab-df-container\">\n",
              "    <div>\n",
              "<style scoped>\n",
              "    .dataframe tbody tr th:only-of-type {\n",
              "        vertical-align: middle;\n",
              "    }\n",
              "\n",
              "    .dataframe tbody tr th {\n",
              "        vertical-align: top;\n",
              "    }\n",
              "\n",
              "    .dataframe thead th {\n",
              "        text-align: right;\n",
              "    }\n",
              "</style>\n",
              "<table border=\"1\" class=\"dataframe\">\n",
              "  <thead>\n",
              "    <tr style=\"text-align: right;\">\n",
              "      <th></th>\n",
              "      <th>Type</th>\n",
              "      <th>Class</th>\n",
              "    </tr>\n",
              "  </thead>\n",
              "  <tbody>\n",
              "    <tr>\n",
              "      <th>0</th>\n",
              "      <td>733, Utsava, Chase Unions Marg, Venkatesapuram...</td>\n",
              "      <td>1</td>\n",
              "    </tr>\n",
              "    <tr>\n",
              "      <th>1</th>\n",
              "      <td>309, Hrithika, Scott Ridge Chowk, Garmillapall...</td>\n",
              "      <td>1</td>\n",
              "    </tr>\n",
              "    <tr>\n",
              "      <th>2</th>\n",
              "      <td>293, Charanya, Frost Track Raasta, Badkuleibir...</td>\n",
              "      <td>1</td>\n",
              "    </tr>\n",
              "    <tr>\n",
              "      <th>3</th>\n",
              "      <td>503, Zelene, Fitzgerald Lock Galli, Taherpur, ...</td>\n",
              "      <td>1</td>\n",
              "    </tr>\n",
              "    <tr>\n",
              "      <th>4</th>\n",
              "      <td>771, Tathyesh, Stone Loaf Galli, Amour, Around...</td>\n",
              "      <td>1</td>\n",
              "    </tr>\n",
              "  </tbody>\n",
              "</table>\n",
              "</div>\n",
              "    <div class=\"colab-df-buttons\">\n",
              "\n",
              "  <div class=\"colab-df-container\">\n",
              "    <button class=\"colab-df-convert\" onclick=\"convertToInteractive('df-bf422465-7315-4b91-8dc8-a9603f662479')\"\n",
              "            title=\"Convert this dataframe to an interactive table.\"\n",
              "            style=\"display:none;\">\n",
              "\n",
              "  <svg xmlns=\"http://www.w3.org/2000/svg\" height=\"24px\" viewBox=\"0 -960 960 960\">\n",
              "    <path d=\"M120-120v-720h720v720H120Zm60-500h600v-160H180v160Zm220 220h160v-160H400v160Zm0 220h160v-160H400v160ZM180-400h160v-160H180v160Zm440 0h160v-160H620v160ZM180-180h160v-160H180v160Zm440 0h160v-160H620v160Z\"/>\n",
              "  </svg>\n",
              "    </button>\n",
              "\n",
              "  <style>\n",
              "    .colab-df-container {\n",
              "      display:flex;\n",
              "      gap: 12px;\n",
              "    }\n",
              "\n",
              "    .colab-df-convert {\n",
              "      background-color: #E8F0FE;\n",
              "      border: none;\n",
              "      border-radius: 50%;\n",
              "      cursor: pointer;\n",
              "      display: none;\n",
              "      fill: #1967D2;\n",
              "      height: 32px;\n",
              "      padding: 0 0 0 0;\n",
              "      width: 32px;\n",
              "    }\n",
              "\n",
              "    .colab-df-convert:hover {\n",
              "      background-color: #E2EBFA;\n",
              "      box-shadow: 0px 1px 2px rgba(60, 64, 67, 0.3), 0px 1px 3px 1px rgba(60, 64, 67, 0.15);\n",
              "      fill: #174EA6;\n",
              "    }\n",
              "\n",
              "    .colab-df-buttons div {\n",
              "      margin-bottom: 4px;\n",
              "    }\n",
              "\n",
              "    [theme=dark] .colab-df-convert {\n",
              "      background-color: #3B4455;\n",
              "      fill: #D2E3FC;\n",
              "    }\n",
              "\n",
              "    [theme=dark] .colab-df-convert:hover {\n",
              "      background-color: #434B5C;\n",
              "      box-shadow: 0px 1px 3px 1px rgba(0, 0, 0, 0.15);\n",
              "      filter: drop-shadow(0px 1px 2px rgba(0, 0, 0, 0.3));\n",
              "      fill: #FFFFFF;\n",
              "    }\n",
              "  </style>\n",
              "\n",
              "    <script>\n",
              "      const buttonEl =\n",
              "        document.querySelector('#df-bf422465-7315-4b91-8dc8-a9603f662479 button.colab-df-convert');\n",
              "      buttonEl.style.display =\n",
              "        google.colab.kernel.accessAllowed ? 'block' : 'none';\n",
              "\n",
              "      async function convertToInteractive(key) {\n",
              "        const element = document.querySelector('#df-bf422465-7315-4b91-8dc8-a9603f662479');\n",
              "        const dataTable =\n",
              "          await google.colab.kernel.invokeFunction('convertToInteractive',\n",
              "                                                    [key], {});\n",
              "        if (!dataTable) return;\n",
              "\n",
              "        const docLinkHtml = 'Like what you see? Visit the ' +\n",
              "          '<a target=\"_blank\" href=https://colab.research.google.com/notebooks/data_table.ipynb>data table notebook</a>'\n",
              "          + ' to learn more about interactive tables.';\n",
              "        element.innerHTML = '';\n",
              "        dataTable['output_type'] = 'display_data';\n",
              "        await google.colab.output.renderOutput(dataTable, element);\n",
              "        const docLink = document.createElement('div');\n",
              "        docLink.innerHTML = docLinkHtml;\n",
              "        element.appendChild(docLink);\n",
              "      }\n",
              "    </script>\n",
              "  </div>\n",
              "\n",
              "\n",
              "<div id=\"df-ee22f7e6-de95-4c37-9af4-80438a0d0ff2\">\n",
              "  <button class=\"colab-df-quickchart\" onclick=\"quickchart('df-ee22f7e6-de95-4c37-9af4-80438a0d0ff2')\"\n",
              "            title=\"Suggest charts\"\n",
              "            style=\"display:none;\">\n",
              "\n",
              "<svg xmlns=\"http://www.w3.org/2000/svg\" height=\"24px\"viewBox=\"0 0 24 24\"\n",
              "     width=\"24px\">\n",
              "    <g>\n",
              "        <path d=\"M19 3H5c-1.1 0-2 .9-2 2v14c0 1.1.9 2 2 2h14c1.1 0 2-.9 2-2V5c0-1.1-.9-2-2-2zM9 17H7v-7h2v7zm4 0h-2V7h2v10zm4 0h-2v-4h2v4z\"/>\n",
              "    </g>\n",
              "</svg>\n",
              "  </button>\n",
              "\n",
              "<style>\n",
              "  .colab-df-quickchart {\n",
              "      --bg-color: #E8F0FE;\n",
              "      --fill-color: #1967D2;\n",
              "      --hover-bg-color: #E2EBFA;\n",
              "      --hover-fill-color: #174EA6;\n",
              "      --disabled-fill-color: #AAA;\n",
              "      --disabled-bg-color: #DDD;\n",
              "  }\n",
              "\n",
              "  [theme=dark] .colab-df-quickchart {\n",
              "      --bg-color: #3B4455;\n",
              "      --fill-color: #D2E3FC;\n",
              "      --hover-bg-color: #434B5C;\n",
              "      --hover-fill-color: #FFFFFF;\n",
              "      --disabled-bg-color: #3B4455;\n",
              "      --disabled-fill-color: #666;\n",
              "  }\n",
              "\n",
              "  .colab-df-quickchart {\n",
              "    background-color: var(--bg-color);\n",
              "    border: none;\n",
              "    border-radius: 50%;\n",
              "    cursor: pointer;\n",
              "    display: none;\n",
              "    fill: var(--fill-color);\n",
              "    height: 32px;\n",
              "    padding: 0;\n",
              "    width: 32px;\n",
              "  }\n",
              "\n",
              "  .colab-df-quickchart:hover {\n",
              "    background-color: var(--hover-bg-color);\n",
              "    box-shadow: 0 1px 2px rgba(60, 64, 67, 0.3), 0 1px 3px 1px rgba(60, 64, 67, 0.15);\n",
              "    fill: var(--button-hover-fill-color);\n",
              "  }\n",
              "\n",
              "  .colab-df-quickchart-complete:disabled,\n",
              "  .colab-df-quickchart-complete:disabled:hover {\n",
              "    background-color: var(--disabled-bg-color);\n",
              "    fill: var(--disabled-fill-color);\n",
              "    box-shadow: none;\n",
              "  }\n",
              "\n",
              "  .colab-df-spinner {\n",
              "    border: 2px solid var(--fill-color);\n",
              "    border-color: transparent;\n",
              "    border-bottom-color: var(--fill-color);\n",
              "    animation:\n",
              "      spin 1s steps(1) infinite;\n",
              "  }\n",
              "\n",
              "  @keyframes spin {\n",
              "    0% {\n",
              "      border-color: transparent;\n",
              "      border-bottom-color: var(--fill-color);\n",
              "      border-left-color: var(--fill-color);\n",
              "    }\n",
              "    20% {\n",
              "      border-color: transparent;\n",
              "      border-left-color: var(--fill-color);\n",
              "      border-top-color: var(--fill-color);\n",
              "    }\n",
              "    30% {\n",
              "      border-color: transparent;\n",
              "      border-left-color: var(--fill-color);\n",
              "      border-top-color: var(--fill-color);\n",
              "      border-right-color: var(--fill-color);\n",
              "    }\n",
              "    40% {\n",
              "      border-color: transparent;\n",
              "      border-right-color: var(--fill-color);\n",
              "      border-top-color: var(--fill-color);\n",
              "    }\n",
              "    60% {\n",
              "      border-color: transparent;\n",
              "      border-right-color: var(--fill-color);\n",
              "    }\n",
              "    80% {\n",
              "      border-color: transparent;\n",
              "      border-right-color: var(--fill-color);\n",
              "      border-bottom-color: var(--fill-color);\n",
              "    }\n",
              "    90% {\n",
              "      border-color: transparent;\n",
              "      border-bottom-color: var(--fill-color);\n",
              "    }\n",
              "  }\n",
              "</style>\n",
              "\n",
              "  <script>\n",
              "    async function quickchart(key) {\n",
              "      const quickchartButtonEl =\n",
              "        document.querySelector('#' + key + ' button');\n",
              "      quickchartButtonEl.disabled = true;  // To prevent multiple clicks.\n",
              "      quickchartButtonEl.classList.add('colab-df-spinner');\n",
              "      try {\n",
              "        const charts = await google.colab.kernel.invokeFunction(\n",
              "            'suggestCharts', [key], {});\n",
              "      } catch (error) {\n",
              "        console.error('Error during call to suggestCharts:', error);\n",
              "      }\n",
              "      quickchartButtonEl.classList.remove('colab-df-spinner');\n",
              "      quickchartButtonEl.classList.add('colab-df-quickchart-complete');\n",
              "    }\n",
              "    (() => {\n",
              "      let quickchartButtonEl =\n",
              "        document.querySelector('#df-ee22f7e6-de95-4c37-9af4-80438a0d0ff2 button');\n",
              "      quickchartButtonEl.style.display =\n",
              "        google.colab.kernel.accessAllowed ? 'block' : 'none';\n",
              "    })();\n",
              "  </script>\n",
              "</div>\n",
              "\n",
              "    </div>\n",
              "  </div>\n"
            ]
          },
          "metadata": {},
          "execution_count": 248
        }
      ]
    },
    {
      "cell_type": "code",
      "source": [
        "final_df.info()"
      ],
      "metadata": {
        "colab": {
          "base_uri": "https://localhost:8080/"
        },
        "id": "sxqM2jpuXvs1",
        "outputId": "3e8feb3f-5abe-4c74-eeca-494240506230"
      },
      "execution_count": null,
      "outputs": [
        {
          "output_type": "stream",
          "name": "stdout",
          "text": [
            "<class 'pandas.core.frame.DataFrame'>\n",
            "RangeIndex: 149563 entries, 0 to 149562\n",
            "Data columns (total 2 columns):\n",
            " #   Column  Non-Null Count   Dtype \n",
            "---  ------  --------------   ----- \n",
            " 0   Type    149563 non-null  object\n",
            " 1   Class   149563 non-null  int64 \n",
            "dtypes: int64(1), object(1)\n",
            "memory usage: 2.3+ MB\n"
          ]
        }
      ]
    },
    {
      "cell_type": "code",
      "source": [
        "final_df = final_df.sample(frac = 1)\n",
        "final_df.info()"
      ],
      "metadata": {
        "colab": {
          "base_uri": "https://localhost:8080/"
        },
        "id": "kdj571DZHMbX",
        "outputId": "5959c20a-fa39-41c0-d034-39bcf9a4d136"
      },
      "execution_count": null,
      "outputs": [
        {
          "output_type": "stream",
          "name": "stdout",
          "text": [
            "<class 'pandas.core.frame.DataFrame'>\n",
            "Int64Index: 149563 entries, 96308 to 121958\n",
            "Data columns (total 2 columns):\n",
            " #   Column  Non-Null Count   Dtype \n",
            "---  ------  --------------   ----- \n",
            " 0   Type    149563 non-null  object\n",
            " 1   Class   149563 non-null  int64 \n",
            "dtypes: int64(1), object(1)\n",
            "memory usage: 3.4+ MB\n"
          ]
        }
      ]
    },
    {
      "cell_type": "code",
      "source": [
        "data = final_df\n",
        "final_df.head(20)"
      ],
      "metadata": {
        "colab": {
          "base_uri": "https://localhost:8080/",
          "height": 676
        },
        "id": "sMFYLyg4sl5N",
        "outputId": "e3edd94b-8f6f-44e2-e5a3-962a32615bed"
      },
      "execution_count": null,
      "outputs": [
        {
          "output_type": "execute_result",
          "data": {
            "text/plain": [
              "                                                     Type  Class\n",
              "96308             Face order, media home although office.      0\n",
              "99347                             Force learn leave, six.      0\n",
              "116347  Recent his, easy, worry affect challenge respond.      0\n",
              "65507   225, Aupera, Derek Underpass Galli, Indrapur ,...      1\n",
              "84586             Within, effect data wide perform enter.      0\n",
              "104575                    Small, only training challenge.      0\n",
              "116959        Treatment note never total gun off within.,      0\n",
              "56001   942, Nandanam, Figueroa Fall Road, China Garla...      1\n",
              "133167              On prepare speech western knowledge.,      0\n",
              "131947         Per military activity teacher, visit drop.      0\n",
              "15470   349, Jainam, Lindsay Crossroad Marg, Alesure ,...      1\n",
              "48363   46, Pranav, Nichols Isle Lane, Banara , Behind...      1\n",
              "71536   113, Jailekha, Jennifer Burgs Road, Kalapadar ...      1\n",
              "57917   717, Arian, Meadows Drive Galli, Samjhia, Near...      1\n",
              "16319   803, Xenia, Jeffrey Ridge Raasta, Londhe , Aro...      1\n",
              "17846   324, Vaikunth, Erin Ports Raasta, Aurekhi, Nea...      1\n",
              "114075            Common condition its answer left card.,      0\n",
              "134108  Girl huge peace explain, general decide, say f...      0\n",
              "44018   476, Swarnam, Thompson Springs Lane, Karada , ...      1\n",
              "126117                  Affect, call people media, smile.      0"
            ],
            "text/html": [
              "\n",
              "  <div id=\"df-c98a53b0-8853-4e25-8ec9-13ce6374cb67\" class=\"colab-df-container\">\n",
              "    <div>\n",
              "<style scoped>\n",
              "    .dataframe tbody tr th:only-of-type {\n",
              "        vertical-align: middle;\n",
              "    }\n",
              "\n",
              "    .dataframe tbody tr th {\n",
              "        vertical-align: top;\n",
              "    }\n",
              "\n",
              "    .dataframe thead th {\n",
              "        text-align: right;\n",
              "    }\n",
              "</style>\n",
              "<table border=\"1\" class=\"dataframe\">\n",
              "  <thead>\n",
              "    <tr style=\"text-align: right;\">\n",
              "      <th></th>\n",
              "      <th>Type</th>\n",
              "      <th>Class</th>\n",
              "    </tr>\n",
              "  </thead>\n",
              "  <tbody>\n",
              "    <tr>\n",
              "      <th>96308</th>\n",
              "      <td>Face order, media home although office.</td>\n",
              "      <td>0</td>\n",
              "    </tr>\n",
              "    <tr>\n",
              "      <th>99347</th>\n",
              "      <td>Force learn leave, six.</td>\n",
              "      <td>0</td>\n",
              "    </tr>\n",
              "    <tr>\n",
              "      <th>116347</th>\n",
              "      <td>Recent his, easy, worry affect challenge respond.</td>\n",
              "      <td>0</td>\n",
              "    </tr>\n",
              "    <tr>\n",
              "      <th>65507</th>\n",
              "      <td>225, Aupera, Derek Underpass Galli, Indrapur ,...</td>\n",
              "      <td>1</td>\n",
              "    </tr>\n",
              "    <tr>\n",
              "      <th>84586</th>\n",
              "      <td>Within, effect data wide perform enter.</td>\n",
              "      <td>0</td>\n",
              "    </tr>\n",
              "    <tr>\n",
              "      <th>104575</th>\n",
              "      <td>Small, only training challenge.</td>\n",
              "      <td>0</td>\n",
              "    </tr>\n",
              "    <tr>\n",
              "      <th>116959</th>\n",
              "      <td>Treatment note never total gun off within.,</td>\n",
              "      <td>0</td>\n",
              "    </tr>\n",
              "    <tr>\n",
              "      <th>56001</th>\n",
              "      <td>942, Nandanam, Figueroa Fall Road, China Garla...</td>\n",
              "      <td>1</td>\n",
              "    </tr>\n",
              "    <tr>\n",
              "      <th>133167</th>\n",
              "      <td>On prepare speech western knowledge.,</td>\n",
              "      <td>0</td>\n",
              "    </tr>\n",
              "    <tr>\n",
              "      <th>131947</th>\n",
              "      <td>Per military activity teacher, visit drop.</td>\n",
              "      <td>0</td>\n",
              "    </tr>\n",
              "    <tr>\n",
              "      <th>15470</th>\n",
              "      <td>349, Jainam, Lindsay Crossroad Marg, Alesure ,...</td>\n",
              "      <td>1</td>\n",
              "    </tr>\n",
              "    <tr>\n",
              "      <th>48363</th>\n",
              "      <td>46, Pranav, Nichols Isle Lane, Banara , Behind...</td>\n",
              "      <td>1</td>\n",
              "    </tr>\n",
              "    <tr>\n",
              "      <th>71536</th>\n",
              "      <td>113, Jailekha, Jennifer Burgs Road, Kalapadar ...</td>\n",
              "      <td>1</td>\n",
              "    </tr>\n",
              "    <tr>\n",
              "      <th>57917</th>\n",
              "      <td>717, Arian, Meadows Drive Galli, Samjhia, Near...</td>\n",
              "      <td>1</td>\n",
              "    </tr>\n",
              "    <tr>\n",
              "      <th>16319</th>\n",
              "      <td>803, Xenia, Jeffrey Ridge Raasta, Londhe , Aro...</td>\n",
              "      <td>1</td>\n",
              "    </tr>\n",
              "    <tr>\n",
              "      <th>17846</th>\n",
              "      <td>324, Vaikunth, Erin Ports Raasta, Aurekhi, Nea...</td>\n",
              "      <td>1</td>\n",
              "    </tr>\n",
              "    <tr>\n",
              "      <th>114075</th>\n",
              "      <td>Common condition its answer left card.,</td>\n",
              "      <td>0</td>\n",
              "    </tr>\n",
              "    <tr>\n",
              "      <th>134108</th>\n",
              "      <td>Girl huge peace explain, general decide, say f...</td>\n",
              "      <td>0</td>\n",
              "    </tr>\n",
              "    <tr>\n",
              "      <th>44018</th>\n",
              "      <td>476, Swarnam, Thompson Springs Lane, Karada , ...</td>\n",
              "      <td>1</td>\n",
              "    </tr>\n",
              "    <tr>\n",
              "      <th>126117</th>\n",
              "      <td>Affect, call people media, smile.</td>\n",
              "      <td>0</td>\n",
              "    </tr>\n",
              "  </tbody>\n",
              "</table>\n",
              "</div>\n",
              "    <div class=\"colab-df-buttons\">\n",
              "\n",
              "  <div class=\"colab-df-container\">\n",
              "    <button class=\"colab-df-convert\" onclick=\"convertToInteractive('df-c98a53b0-8853-4e25-8ec9-13ce6374cb67')\"\n",
              "            title=\"Convert this dataframe to an interactive table.\"\n",
              "            style=\"display:none;\">\n",
              "\n",
              "  <svg xmlns=\"http://www.w3.org/2000/svg\" height=\"24px\" viewBox=\"0 -960 960 960\">\n",
              "    <path d=\"M120-120v-720h720v720H120Zm60-500h600v-160H180v160Zm220 220h160v-160H400v160Zm0 220h160v-160H400v160ZM180-400h160v-160H180v160Zm440 0h160v-160H620v160ZM180-180h160v-160H180v160Zm440 0h160v-160H620v160Z\"/>\n",
              "  </svg>\n",
              "    </button>\n",
              "\n",
              "  <style>\n",
              "    .colab-df-container {\n",
              "      display:flex;\n",
              "      gap: 12px;\n",
              "    }\n",
              "\n",
              "    .colab-df-convert {\n",
              "      background-color: #E8F0FE;\n",
              "      border: none;\n",
              "      border-radius: 50%;\n",
              "      cursor: pointer;\n",
              "      display: none;\n",
              "      fill: #1967D2;\n",
              "      height: 32px;\n",
              "      padding: 0 0 0 0;\n",
              "      width: 32px;\n",
              "    }\n",
              "\n",
              "    .colab-df-convert:hover {\n",
              "      background-color: #E2EBFA;\n",
              "      box-shadow: 0px 1px 2px rgba(60, 64, 67, 0.3), 0px 1px 3px 1px rgba(60, 64, 67, 0.15);\n",
              "      fill: #174EA6;\n",
              "    }\n",
              "\n",
              "    .colab-df-buttons div {\n",
              "      margin-bottom: 4px;\n",
              "    }\n",
              "\n",
              "    [theme=dark] .colab-df-convert {\n",
              "      background-color: #3B4455;\n",
              "      fill: #D2E3FC;\n",
              "    }\n",
              "\n",
              "    [theme=dark] .colab-df-convert:hover {\n",
              "      background-color: #434B5C;\n",
              "      box-shadow: 0px 1px 3px 1px rgba(0, 0, 0, 0.15);\n",
              "      filter: drop-shadow(0px 1px 2px rgba(0, 0, 0, 0.3));\n",
              "      fill: #FFFFFF;\n",
              "    }\n",
              "  </style>\n",
              "\n",
              "    <script>\n",
              "      const buttonEl =\n",
              "        document.querySelector('#df-c98a53b0-8853-4e25-8ec9-13ce6374cb67 button.colab-df-convert');\n",
              "      buttonEl.style.display =\n",
              "        google.colab.kernel.accessAllowed ? 'block' : 'none';\n",
              "\n",
              "      async function convertToInteractive(key) {\n",
              "        const element = document.querySelector('#df-c98a53b0-8853-4e25-8ec9-13ce6374cb67');\n",
              "        const dataTable =\n",
              "          await google.colab.kernel.invokeFunction('convertToInteractive',\n",
              "                                                    [key], {});\n",
              "        if (!dataTable) return;\n",
              "\n",
              "        const docLinkHtml = 'Like what you see? Visit the ' +\n",
              "          '<a target=\"_blank\" href=https://colab.research.google.com/notebooks/data_table.ipynb>data table notebook</a>'\n",
              "          + ' to learn more about interactive tables.';\n",
              "        element.innerHTML = '';\n",
              "        dataTable['output_type'] = 'display_data';\n",
              "        await google.colab.output.renderOutput(dataTable, element);\n",
              "        const docLink = document.createElement('div');\n",
              "        docLink.innerHTML = docLinkHtml;\n",
              "        element.appendChild(docLink);\n",
              "      }\n",
              "    </script>\n",
              "  </div>\n",
              "\n",
              "\n",
              "<div id=\"df-85c90909-2e4f-4f6f-b4f3-ad2f37702004\">\n",
              "  <button class=\"colab-df-quickchart\" onclick=\"quickchart('df-85c90909-2e4f-4f6f-b4f3-ad2f37702004')\"\n",
              "            title=\"Suggest charts\"\n",
              "            style=\"display:none;\">\n",
              "\n",
              "<svg xmlns=\"http://www.w3.org/2000/svg\" height=\"24px\"viewBox=\"0 0 24 24\"\n",
              "     width=\"24px\">\n",
              "    <g>\n",
              "        <path d=\"M19 3H5c-1.1 0-2 .9-2 2v14c0 1.1.9 2 2 2h14c1.1 0 2-.9 2-2V5c0-1.1-.9-2-2-2zM9 17H7v-7h2v7zm4 0h-2V7h2v10zm4 0h-2v-4h2v4z\"/>\n",
              "    </g>\n",
              "</svg>\n",
              "  </button>\n",
              "\n",
              "<style>\n",
              "  .colab-df-quickchart {\n",
              "      --bg-color: #E8F0FE;\n",
              "      --fill-color: #1967D2;\n",
              "      --hover-bg-color: #E2EBFA;\n",
              "      --hover-fill-color: #174EA6;\n",
              "      --disabled-fill-color: #AAA;\n",
              "      --disabled-bg-color: #DDD;\n",
              "  }\n",
              "\n",
              "  [theme=dark] .colab-df-quickchart {\n",
              "      --bg-color: #3B4455;\n",
              "      --fill-color: #D2E3FC;\n",
              "      --hover-bg-color: #434B5C;\n",
              "      --hover-fill-color: #FFFFFF;\n",
              "      --disabled-bg-color: #3B4455;\n",
              "      --disabled-fill-color: #666;\n",
              "  }\n",
              "\n",
              "  .colab-df-quickchart {\n",
              "    background-color: var(--bg-color);\n",
              "    border: none;\n",
              "    border-radius: 50%;\n",
              "    cursor: pointer;\n",
              "    display: none;\n",
              "    fill: var(--fill-color);\n",
              "    height: 32px;\n",
              "    padding: 0;\n",
              "    width: 32px;\n",
              "  }\n",
              "\n",
              "  .colab-df-quickchart:hover {\n",
              "    background-color: var(--hover-bg-color);\n",
              "    box-shadow: 0 1px 2px rgba(60, 64, 67, 0.3), 0 1px 3px 1px rgba(60, 64, 67, 0.15);\n",
              "    fill: var(--button-hover-fill-color);\n",
              "  }\n",
              "\n",
              "  .colab-df-quickchart-complete:disabled,\n",
              "  .colab-df-quickchart-complete:disabled:hover {\n",
              "    background-color: var(--disabled-bg-color);\n",
              "    fill: var(--disabled-fill-color);\n",
              "    box-shadow: none;\n",
              "  }\n",
              "\n",
              "  .colab-df-spinner {\n",
              "    border: 2px solid var(--fill-color);\n",
              "    border-color: transparent;\n",
              "    border-bottom-color: var(--fill-color);\n",
              "    animation:\n",
              "      spin 1s steps(1) infinite;\n",
              "  }\n",
              "\n",
              "  @keyframes spin {\n",
              "    0% {\n",
              "      border-color: transparent;\n",
              "      border-bottom-color: var(--fill-color);\n",
              "      border-left-color: var(--fill-color);\n",
              "    }\n",
              "    20% {\n",
              "      border-color: transparent;\n",
              "      border-left-color: var(--fill-color);\n",
              "      border-top-color: var(--fill-color);\n",
              "    }\n",
              "    30% {\n",
              "      border-color: transparent;\n",
              "      border-left-color: var(--fill-color);\n",
              "      border-top-color: var(--fill-color);\n",
              "      border-right-color: var(--fill-color);\n",
              "    }\n",
              "    40% {\n",
              "      border-color: transparent;\n",
              "      border-right-color: var(--fill-color);\n",
              "      border-top-color: var(--fill-color);\n",
              "    }\n",
              "    60% {\n",
              "      border-color: transparent;\n",
              "      border-right-color: var(--fill-color);\n",
              "    }\n",
              "    80% {\n",
              "      border-color: transparent;\n",
              "      border-right-color: var(--fill-color);\n",
              "      border-bottom-color: var(--fill-color);\n",
              "    }\n",
              "    90% {\n",
              "      border-color: transparent;\n",
              "      border-bottom-color: var(--fill-color);\n",
              "    }\n",
              "  }\n",
              "</style>\n",
              "\n",
              "  <script>\n",
              "    async function quickchart(key) {\n",
              "      const quickchartButtonEl =\n",
              "        document.querySelector('#' + key + ' button');\n",
              "      quickchartButtonEl.disabled = true;  // To prevent multiple clicks.\n",
              "      quickchartButtonEl.classList.add('colab-df-spinner');\n",
              "      try {\n",
              "        const charts = await google.colab.kernel.invokeFunction(\n",
              "            'suggestCharts', [key], {});\n",
              "      } catch (error) {\n",
              "        console.error('Error during call to suggestCharts:', error);\n",
              "      }\n",
              "      quickchartButtonEl.classList.remove('colab-df-spinner');\n",
              "      quickchartButtonEl.classList.add('colab-df-quickchart-complete');\n",
              "    }\n",
              "    (() => {\n",
              "      let quickchartButtonEl =\n",
              "        document.querySelector('#df-85c90909-2e4f-4f6f-b4f3-ad2f37702004 button');\n",
              "      quickchartButtonEl.style.display =\n",
              "        google.colab.kernel.accessAllowed ? 'block' : 'none';\n",
              "    })();\n",
              "  </script>\n",
              "</div>\n",
              "\n",
              "    </div>\n",
              "  </div>\n"
            ]
          },
          "metadata": {},
          "execution_count": 251
        }
      ]
    },
    {
      "cell_type": "code",
      "source": [
        "final_df['Class'].value_counts()"
      ],
      "metadata": {
        "colab": {
          "base_uri": "https://localhost:8080/"
        },
        "id": "SK1HRRWoIY_K",
        "outputId": "166dbeb9-7a35-424a-dd69-14aef22166af"
      },
      "execution_count": null,
      "outputs": [
        {
          "output_type": "execute_result",
          "data": {
            "text/plain": [
              "1    79563\n",
              "0    70000\n",
              "Name: Class, dtype: int64"
            ]
          },
          "metadata": {},
          "execution_count": 252
        }
      ]
    },
    {
      "cell_type": "code",
      "source": [
        "x_train, x_test, y_train, y_test = train_test_split(data['Type'], data['Class'], test_size = 0.2)\n",
        "x_train.shape, x_test.shape, y_train.shape, y_test.shape"
      ],
      "metadata": {
        "colab": {
          "base_uri": "https://localhost:8080/"
        },
        "id": "GMYZsAmK6V_O",
        "outputId": "ee47c7c8-0a78-4f24-e3c6-c92246fe4e14"
      },
      "execution_count": null,
      "outputs": [
        {
          "output_type": "execute_result",
          "data": {
            "text/plain": [
              "((119650,), (29913,), (119650,), (29913,))"
            ]
          },
          "metadata": {},
          "execution_count": 253
        }
      ]
    },
    {
      "cell_type": "code",
      "source": [
        "import tensorflow as tf\n",
        "from tensorflow import keras\n",
        "from tensorflow.keras.preprocessing.text import Tokenizer\n",
        "from tensorflow.keras.preprocessing.sequence import pad_sequences\n",
        "from tensorflow.keras.layers import MultiHeadAttention, LayerNormalization, Dropout, Layer\n",
        "from tensorflow.keras.layers import Embedding, Input, GlobalAveragePooling1D, Dense\n",
        "from tensorflow.keras.datasets import imdb\n",
        "from tensorflow.keras.models import Sequential, Model\n",
        "from tensorflow.keras.models import model_from_json\n",
        "from tensorflow.keras.preprocessing.text import tokenizer_from_json # to load the model\n",
        "import json\n",
        "\n",
        "import numpy as np\n",
        "import warnings\n",
        "from sklearn.preprocessing import LabelEncoder\n",
        "warnings.filterwarnings(\"ignore\", category=np.VisibleDeprecationWarning)"
      ],
      "metadata": {
        "id": "uL6-efl78BlA"
      },
      "execution_count": null,
      "outputs": []
    },
    {
      "cell_type": "code",
      "source": [
        "class TransformerBlock(Layer):\n",
        "    def __init__(self, embed_dim, num_heads, ff_dim, rate=0.1):\n",
        "        super(TransformerBlock, self).__init__()\n",
        "        self.att = MultiHeadAttention(num_heads=num_heads, key_dim=embed_dim)\n",
        "        self.ffn = Sequential(\n",
        "            [Dense(ff_dim, activation=\"relu\"),\n",
        "             Dense(embed_dim),]\n",
        "        )\n",
        "        self.layernorm1 = LayerNormalization(epsilon=1e-6)\n",
        "        self.layernorm2 = LayerNormalization(epsilon=1e-6)\n",
        "        self.dropout1 = Dropout(rate)\n",
        "        self.dropout2 = Dropout(rate)\n",
        "\n",
        "    def call(self, inputs, training):\n",
        "        attn_output = self.att(inputs, inputs)\n",
        "        attn_output = self.dropout1(attn_output, training=training)\n",
        "        out1 = self.layernorm1(inputs + attn_output)\n",
        "        ffn_output = self.ffn(out1)\n",
        "        ffn_output = self.dropout2(ffn_output, training=training)\n",
        "        return self.layernorm2(out1 + ffn_output)\n"
      ],
      "metadata": {
        "id": "J64jvLtE8I3V"
      },
      "execution_count": null,
      "outputs": []
    },
    {
      "cell_type": "code",
      "source": [
        "vocab_size = 180000  # Only consider the top 20k words\n",
        "maxlen = 200  # Only consider the first 200 words of each movie review"
      ],
      "metadata": {
        "id": "rYUfQ5izjXNt"
      },
      "execution_count": null,
      "outputs": []
    },
    {
      "cell_type": "code",
      "source": [
        "class TokenAndPositionEmbedding(Layer):\n",
        "    def __init__(self, maxlen, vocab_size, embed_dim):\n",
        "        super(TokenAndPositionEmbedding, self).__init__()\n",
        "        self.token_emb = Embedding(input_dim=vocab_size, output_dim=embed_dim)\n",
        "        self.pos_emb = Embedding(input_dim=maxlen, output_dim=embed_dim)\n",
        "\n",
        "    def call(self, x):\n",
        "        maxlen = tf.shape(x)[-1]\n",
        "        positions = tf.range(start=0, limit=maxlen, delta=1)\n",
        "        positions = self.pos_emb(positions)\n",
        "        x = self.token_emb(x)\n",
        "        return x + positions"
      ],
      "metadata": {
        "id": "IUaCSPtw8Nrs"
      },
      "execution_count": null,
      "outputs": []
    },
    {
      "cell_type": "code",
      "source": [
        "x_train"
      ],
      "metadata": {
        "colab": {
          "base_uri": "https://localhost:8080/"
        },
        "id": "en3apleL8S-L",
        "outputId": "6e39db6e-899a-4332-cc26-efcc0e9d0c2a"
      },
      "execution_count": null,
      "outputs": [
        {
          "output_type": "execute_result",
          "data": {
            "text/plain": [
              "87866                       Adult, visit edge well college.\n",
              "75614     946, Jaipriya, Villarreal River Raasta, Salhe ...\n",
              "71344     651, Yagnash, Megan Center Lane, Raniwara , Be...\n",
              "91096     Interview, language hot, not Democrat represen...\n",
              "46536     910, Naionika, Rios Trail Road, Tera, Around N...\n",
              "                                ...                        \n",
              "132503                                    Half, down type.,\n",
              "113112       Management my hot, trial significant economic.\n",
              "147521       While training, near maybe billion, no behind.\n",
              "136950            New impact result morning that, daughter.\n",
              "2770      706, Ojas, Rodriguez Trail Galli, Sahakar Bhav...\n",
              "Name: Type, Length: 119650, dtype: object"
            ]
          },
          "metadata": {},
          "execution_count": 258
        }
      ]
    },
    {
      "cell_type": "code",
      "source": [
        "# Tokenize the text\n",
        "tokenizer = Tokenizer()\n",
        "tokenizer.fit_on_texts(x_train)\n",
        "\n",
        "# Convert text to sequences of integers\n",
        "x_train_sequences = tokenizer.texts_to_sequences(x_train)\n",
        "x_test_sequences = tokenizer.texts_to_sequences(x_test)\n",
        "\n",
        "# Pad sequences to ensure they have the same length\n",
        "maxlen = 10  # Choose an appropriate value based on your data\n",
        "x_train_padded = pad_sequences(x_train_sequences, maxlen=maxlen, padding='post', truncating='post')\n",
        "x_test_padded = pad_sequences(x_test_sequences, maxlen=maxlen, padding='post', truncating='post')\n",
        "\n",
        "# Label encoding for y_train and y_test\n",
        "label_encoder = LabelEncoder()\n",
        "y_train_encoded = label_encoder.fit_transform(y_train)\n",
        "y_test_encoded = label_encoder.transform(y_test)"
      ],
      "metadata": {
        "id": "ZqSCeotbInM4"
      },
      "execution_count": null,
      "outputs": []
    },
    {
      "cell_type": "code",
      "source": [
        "# Split the data into training and validation sets\n",
        "x_train, x_val, y_train, y_val = train_test_split(x_train_padded, y_train_encoded, test_size=0.2, random_state=42)"
      ],
      "metadata": {
        "id": "aZXGqsEv8cMT"
      },
      "execution_count": null,
      "outputs": []
    },
    {
      "cell_type": "code",
      "source": [],
      "metadata": {
        "id": "MwE_itOVes4U"
      },
      "execution_count": null,
      "outputs": []
    },
    {
      "cell_type": "code",
      "source": [
        "embed_dim = 32  # Embedding size for each token\n",
        "num_heads = 2  # Number of attention heads\n",
        "ff_dim = 32  # Hidden layer size in feed forward network inside transformer\n",
        "num_transformer_blocks = 2\n",
        "inputs = Input(shape=(maxlen,))\n",
        "num_classes =2\n",
        "from tensorflow.keras.utils import register_keras_serializable\n",
        "\n",
        "@register_keras_serializable()\n",
        "class TransformerModel(tf.keras.Model):\n",
        "   def __init__(self, maxlen,vocab_size,embed_dim,num_heads,ff_dim, num_transformer_blocks, num_classes):\n",
        "     super(TransformerModel, self).__init__()\n",
        "\n",
        "     self.embedding_layer = TokenAndPositionEmbedding(maxlen, vocab_size,embed_dim)\n",
        "\n",
        "     self.transformer_blocks = [TransformerBlock(embed_dim, num_heads, ff_dim) for _ in range(num_transformer_blocks)]\n",
        "\n",
        "     self.global_average_pooling = GlobalAveragePooling1D()\n",
        "     self.dropout1 = Dropout(0.1)\n",
        "     self.dense1 = Dense(80, activation = 'relu')\n",
        "     self.dropout2 = Dropout(0.1)\n",
        "     self.output_layer = Dense(num_classes, activation= 'softmax')\n",
        "\n",
        "   def call(self, inputs, training = False):\n",
        "     x = self.embedding_layer(inputs)\n",
        "\n",
        "     for transformer_block in self.transformer_blocks:\n",
        "       x = transformer_block(x)\n",
        "\n",
        "     x = self.global_average_pooling(x)\n",
        "     x = self.dropout1(x, training = training)\n",
        "     x = self.dense1(x)\n",
        "     x = self.dropout2(x, training = training)\n",
        "     outputs = self.output_layer(x)\n",
        "\n",
        "     return outputs\n",
        "   def get_config(self):\n",
        "        # This is necessary for saving the model\n",
        "        return {}\n",
        "\n",
        "   @classmethod\n",
        "   def from_config(cls, config):\n",
        "        # This is necessary for loading the model\n",
        "        return cls(**config)\n",
        "\n",
        "\n",
        "model = TransformerModel(maxlen, vocab_size, embed_dim, num_heads, ff_dim, num_transformer_blocks, num_classes)"
      ],
      "metadata": {
        "id": "hBBqKmfWHUuR"
      },
      "execution_count": null,
      "outputs": []
    },
    {
      "cell_type": "code",
      "source": [
        "model.compile(optimizer=\"adam\", loss=\"sparse_categorical_crossentropy\", metrics=[\"accuracy\"])\n",
        "\n",
        "history = model.fit(x_train, y_train,\n",
        "                    batch_size=29, epochs=27,\n",
        "                    validation_data=(x_val, y_val)\n",
        "                   )"
      ],
      "metadata": {
        "colab": {
          "base_uri": "https://localhost:8080/"
        },
        "id": "zeW7uoZcMRHk",
        "outputId": "8b0da346-8b7e-43b1-f28f-39673ffe17f7"
      },
      "execution_count": null,
      "outputs": [
        {
          "output_type": "stream",
          "name": "stdout",
          "text": [
            "Epoch 1/27\n",
            "3301/3301 [==============================] - 71s 17ms/step - loss: 0.0040 - accuracy: 0.9986 - val_loss: 8.2758e-07 - val_accuracy: 1.0000\n",
            "Epoch 2/27\n",
            "3301/3301 [==============================] - 53s 16ms/step - loss: 8.8089e-07 - accuracy: 1.0000 - val_loss: 6.1698e-08 - val_accuracy: 1.0000\n",
            "Epoch 3/27\n",
            "3301/3301 [==============================] - 50s 15ms/step - loss: 1.2587e-07 - accuracy: 1.0000 - val_loss: 7.1434e-09 - val_accuracy: 1.0000\n",
            "Epoch 4/27\n",
            "3301/3301 [==============================] - 47s 14ms/step - loss: 2.8246e-08 - accuracy: 1.0000 - val_loss: 1.6838e-09 - val_accuracy: 1.0000\n",
            "Epoch 5/27\n",
            "3301/3301 [==============================] - 47s 14ms/step - loss: 5.1148e-09 - accuracy: 1.0000 - val_loss: 5.4299e-10 - val_accuracy: 1.0000\n",
            "Epoch 6/27\n",
            "3301/3301 [==============================] - 49s 15ms/step - loss: 8.0951e-10 - accuracy: 1.0000 - val_loss: 3.2380e-10 - val_accuracy: 1.0000\n",
            "Epoch 7/27\n",
            "3301/3301 [==============================] - 49s 15ms/step - loss: 2.6153e-10 - accuracy: 1.0000 - val_loss: 2.0424e-10 - val_accuracy: 1.0000\n",
            "Epoch 8/27\n",
            "3301/3301 [==============================] - 47s 14ms/step - loss: 1.4322e-10 - accuracy: 1.0000 - val_loss: 3.9853e-11 - val_accuracy: 1.0000\n",
            "Epoch 9/27\n",
            "3301/3301 [==============================] - 49s 15ms/step - loss: 1.1707e-10 - accuracy: 1.0000 - val_loss: 2.4908e-11 - val_accuracy: 1.0000\n",
            "Epoch 10/27\n",
            "3301/3301 [==============================] - 47s 14ms/step - loss: 2.7399e-11 - accuracy: 1.0000 - val_loss: 4.9816e-12 - val_accuracy: 1.0000\n",
            "Epoch 11/27\n",
            "3301/3301 [==============================] - 49s 15ms/step - loss: 0.0013 - accuracy: 0.9998 - val_loss: 2.5726e-04 - val_accuracy: 1.0000\n",
            "Epoch 12/27\n",
            "3301/3301 [==============================] - 49s 15ms/step - loss: 8.6421e-04 - accuracy: 0.9999 - val_loss: 1.3516e-05 - val_accuracy: 1.0000\n",
            "Epoch 13/27\n",
            "3301/3301 [==============================] - 49s 15ms/step - loss: 1.1510e-05 - accuracy: 1.0000 - val_loss: 1.0093e-08 - val_accuracy: 1.0000\n",
            "Epoch 14/27\n",
            "3301/3301 [==============================] - 49s 15ms/step - loss: 1.5659e-07 - accuracy: 1.0000 - val_loss: 1.8233e-09 - val_accuracy: 1.0000\n",
            "Epoch 15/27\n",
            "3301/3301 [==============================] - 50s 15ms/step - loss: 3.7137e-08 - accuracy: 1.0000 - val_loss: 1.9926e-10 - val_accuracy: 1.0000\n",
            "Epoch 16/27\n",
            "3301/3301 [==============================] - 50s 15ms/step - loss: 9.0143e-09 - accuracy: 1.0000 - val_loss: 3.4871e-11 - val_accuracy: 1.0000\n",
            "Epoch 17/27\n",
            "3301/3301 [==============================] - 49s 15ms/step - loss: 2.0635e-09 - accuracy: 1.0000 - val_loss: 4.9816e-12 - val_accuracy: 1.0000\n",
            "Epoch 18/27\n",
            "3301/3301 [==============================] - 51s 15ms/step - loss: 6.3639e-10 - accuracy: 1.0000 - val_loss: 0.0000e+00 - val_accuracy: 1.0000\n",
            "Epoch 19/27\n",
            "3301/3301 [==============================] - 50s 15ms/step - loss: 6.4396e-04 - accuracy: 0.9999 - val_loss: 2.1756e-05 - val_accuracy: 1.0000\n",
            "Epoch 20/27\n",
            "3301/3301 [==============================] - 50s 15ms/step - loss: 1.2562e-06 - accuracy: 1.0000 - val_loss: 2.3894e-04 - val_accuracy: 0.9999\n",
            "Epoch 21/27\n",
            "3301/3301 [==============================] - 50s 15ms/step - loss: 4.5925e-07 - accuracy: 1.0000 - val_loss: 0.0034 - val_accuracy: 0.9996\n",
            "Epoch 22/27\n",
            "3301/3301 [==============================] - 48s 14ms/step - loss: 7.3884e-04 - accuracy: 0.9998 - val_loss: 0.0020 - val_accuracy: 0.9998\n",
            "Epoch 23/27\n",
            "3301/3301 [==============================] - 50s 15ms/step - loss: 6.4322e-07 - accuracy: 1.0000 - val_loss: 0.0018 - val_accuracy: 0.9998\n",
            "Epoch 24/27\n",
            "3301/3301 [==============================] - 50s 15ms/step - loss: 1.8427e-07 - accuracy: 1.0000 - val_loss: 0.0021 - val_accuracy: 0.9998\n",
            "Epoch 25/27\n",
            "3301/3301 [==============================] - 50s 15ms/step - loss: 1.8057e-08 - accuracy: 1.0000 - val_loss: 0.0019 - val_accuracy: 0.9998\n",
            "Epoch 26/27\n",
            "3301/3301 [==============================] - 49s 15ms/step - loss: 6.3166e-09 - accuracy: 1.0000 - val_loss: 0.0023 - val_accuracy: 0.9998\n",
            "Epoch 27/27\n",
            "3301/3301 [==============================] - 48s 15ms/step - loss: 1.4035e-09 - accuracy: 1.0000 - val_loss: 0.0024 - val_accuracy: 0.9998\n"
          ]
        }
      ]
    },
    {
      "cell_type": "code",
      "source": [
        "results = model.evaluate(x_val, y_val, verbose=2)\n",
        "\n",
        "for name, value in zip(model.metrics_names, results):\n",
        "    print(\"%s: %.3f\" % (name, value))"
      ],
      "metadata": {
        "id": "Z57q6yMpMiKE",
        "colab": {
          "base_uri": "https://localhost:8080/"
        },
        "outputId": "b3613456-7ee6-42cc-dbb6-7e7fba4be54f"
      },
      "execution_count": null,
      "outputs": [
        {
          "output_type": "stream",
          "name": "stdout",
          "text": [
            "748/748 - 3s - loss: 0.0024 - accuracy: 0.9998 - 3s/epoch - 4ms/step\n",
            "loss: 0.002\n",
            "accuracy: 1.000\n"
          ]
        }
      ]
    },
    {
      "cell_type": "code",
      "source": [
        "# # Save the model\n",
        "# model.save_weights(\"/content/drive/My Drive/Address_optimizer/address_text_classifier/text_classification_model_2.h5\")\n",
        "# # Save the model\n",
        "# model.save(\"/content/drive/My Drive/Address_optimizer/address_text_classifier_tf/\")\n"
      ],
      "metadata": {
        "id": "dvO7xJ1lOkZO"
      },
      "execution_count": null,
      "outputs": []
    },
    {
      "cell_type": "code",
      "source": [
        "# import io\n",
        "# tokenizer_json = tokenizer.to_json()\n",
        "# with io.open('tokenizer.json', 'w', encoding='utf-8') as f:\n",
        "#     f.write(json.dumps(tokenizer_json, ensure_ascii=False))"
      ],
      "metadata": {
        "id": "HDolCV11l6eZ"
      },
      "execution_count": null,
      "outputs": []
    },
    {
      "cell_type": "code",
      "source": [
        "# # Save the model architecture to a JSON file in Google Drive\n",
        "# model_json = model.to_json()\n",
        "# with open(\"/content/drive/My Drive/Address_optimizer/address_text_classifier/model_architecture.json\", \"w\") as json_file:\n",
        "#     json_file.write(model_json)\n",
        "\n",
        "# # Save other details like tokenizer configuration to a JSON file in Google Drive\n",
        "# import json\n",
        "# tokenizer_json = tokenizer.to_json()\n",
        "# with open('/content/drive/My Drive/Address_optimizer/address_text_classifier_tf/tokenizer.json', 'w', encoding='utf-8') as f:\n",
        "#     f.write(json.dumps(tokenizer_json, ensure_ascii=False))\n",
        "\n",
        "# import pickle\n",
        "# # Save the tokenizer\n",
        "# with open(\"/content/drive/My Drive/Address_optimizer/address_text_classifier/tokenizer.pkl\", \"wb\") as tokenizer_file:\n",
        "#     pickle.dump(tokenizer, tokenizer_file, protocol=pickle.HIGHEST_PROTOCOL)\n"
      ],
      "metadata": {
        "id": "1Szc7u7kQKv3"
      },
      "execution_count": null,
      "outputs": []
    },
    {
      "cell_type": "code",
      "source": [
        "# LOAD THE MODEL\n",
        "# from tensorflow.keras.models import load_model\n",
        "# import pickle\n",
        "\n",
        "# # Load the model\n",
        "# loaded_model = load_model(\"/content/drive/My Drive/text_classification_model.keras\")\n",
        "\n",
        "# # Load the tokenizer\n",
        "# with open(\"/content/drive/My Drive/tokenizer.pkl\", \"rb\") as tokenizer_file:\n",
        "#     loaded_tokenizer = pickle.load(tokenizer_file)\n"
      ],
      "metadata": {
        "id": "a7ySq8oASR0d"
      },
      "execution_count": null,
      "outputs": []
    },
    {
      "cell_type": "code",
      "source": [
        "def classify_sentence(model, tokenizer, sentence):\n",
        "    # Tokenize the new sentence\n",
        "    sequence = tokenizer.texts_to_sequences([sentence])\n",
        "    padded_sequence = pad_sequences(sequence, maxlen=10, padding='post', truncating='post')\n",
        "\n",
        "    # Predict the class label\n",
        "    predictions = model.predict(padded_sequence)\n",
        "    predicted_class_index = np.argmax(predictions)\n",
        "\n",
        "    # Decode the predicted class label\n",
        "    predicted_class = label_encoder.classes_[predicted_class_index]\n",
        "    if predicted_class==1:\n",
        "      pred_label = 'Location'\n",
        "    else:\n",
        "      pred_label = 'Text'\n",
        "\n",
        "    # Return the original sentence and predicted class\n",
        "    return sentence, pred_label\n",
        "\n",
        "# Example usage:\n",
        "new_sentence = \"A random sentence to test the classifier.\"\n",
        "original_sentence, predicted_class = classify_sentence(model, tokenizer, new_sentence)\n",
        "\n",
        "print(\"Original Sentence:\", original_sentence)\n",
        "print(\"Predicted Class:\", predicted_class)\n"
      ],
      "metadata": {
        "id": "WEptTjheNJ2o",
        "colab": {
          "base_uri": "https://localhost:8080/"
        },
        "outputId": "9d9a3958-fe29-4c34-fd99-3787e11f473a"
      },
      "execution_count": null,
      "outputs": [
        {
          "output_type": "stream",
          "name": "stdout",
          "text": [
            "1/1 [==============================] - 0s 310ms/step\n",
            "Original Sentence: A random sentence to test the classifier.\n",
            "Predicted Class: Text\n"
          ]
        }
      ]
    },
    {
      "cell_type": "code",
      "source": [
        "new_sentence = \"Siddhachal Housing Society, Pokharan Road Number 2, Pawar Nagar, Thane West\"\n",
        "classify_sentence(model, tokenizer, new_sentence)\n"
      ],
      "metadata": {
        "id": "OBPQ4EgXSjdK",
        "colab": {
          "base_uri": "https://localhost:8080/"
        },
        "outputId": "04bb5484-ac93-4e39-ab65-a1924c6a8b0c"
      },
      "execution_count": null,
      "outputs": [
        {
          "output_type": "stream",
          "name": "stdout",
          "text": [
            "1/1 [==============================] - 0s 21ms/step\n"
          ]
        },
        {
          "output_type": "execute_result",
          "data": {
            "text/plain": [
              "('Siddhachal Housing Society, Pokharan Road Number 2, Pawar Nagar, Thane West',\n",
              " 'Location')"
            ]
          },
          "metadata": {},
          "execution_count": 269
        }
      ]
    },
    {
      "cell_type": "code",
      "source": [
        "new_sentence = \"WING-E, 13-14, Off, New Link Rd, opp. Movie Time Cinema, Evershine Nagar, Malad West\"\n",
        "classify_sentence(model, tokenizer, new_sentence)"
      ],
      "metadata": {
        "id": "-P41zoGBS6Q6",
        "colab": {
          "base_uri": "https://localhost:8080/"
        },
        "outputId": "496e3552-9507-4fa4-9567-8e98aabae2ef"
      },
      "execution_count": null,
      "outputs": [
        {
          "output_type": "stream",
          "name": "stdout",
          "text": [
            "1/1 [==============================] - 0s 19ms/step\n"
          ]
        },
        {
          "output_type": "execute_result",
          "data": {
            "text/plain": [
              "('WING-E, 13-14, Off, New Link Rd, opp. Movie Time Cinema, Evershine Nagar, Malad West',\n",
              " 'Text')"
            ]
          },
          "metadata": {},
          "execution_count": 270
        }
      ]
    },
    {
      "cell_type": "markdown",
      "source": [
        "## For accuracy"
      ],
      "metadata": {
        "id": "ZgCcv_yNUJFF"
      }
    },
    {
      "cell_type": "code",
      "source": [
        "# 1\n",
        "# 1 text\n",
        "# New text sentence to classify\n",
        "new_sentence = \"drfghjnbhj, the rainbow west, are blue Andheri\"\n",
        "\n",
        "classify_sentence(model, tokenizer, new_sentence)"
      ],
      "metadata": {
        "id": "XF_enJtsTY7N",
        "colab": {
          "base_uri": "https://localhost:8080/"
        },
        "outputId": "286c893e-da44-48f0-a315-5bfe416d3aee"
      },
      "execution_count": null,
      "outputs": [
        {
          "output_type": "stream",
          "name": "stdout",
          "text": [
            "1/1 [==============================] - 0s 19ms/step\n"
          ]
        },
        {
          "output_type": "execute_result",
          "data": {
            "text/plain": [
              "('drfghjnbhj, the rainbow west, are blue Andheri', 'Text')"
            ]
          },
          "metadata": {},
          "execution_count": 271
        }
      ]
    },
    {
      "cell_type": "code",
      "source": [
        "# 2\n",
        "# 1 Loc\n",
        "# New text sentence to classify\n",
        "new_sentence = \"Siddhachal Housing Society, Pokharan Road Number 2, Pawar Nagar, Thane West\"\n",
        "\n",
        "classify_sentence(model, tokenizer, new_sentence)"
      ],
      "metadata": {
        "id": "oarKVqhaUEZ2",
        "colab": {
          "base_uri": "https://localhost:8080/"
        },
        "outputId": "ffbcabab-b8c3-49c8-8b11-7b7baaeb7e52"
      },
      "execution_count": null,
      "outputs": [
        {
          "output_type": "stream",
          "name": "stdout",
          "text": [
            "1/1 [==============================] - 0s 24ms/step\n"
          ]
        },
        {
          "output_type": "execute_result",
          "data": {
            "text/plain": [
              "('Siddhachal Housing Society, Pokharan Road Number 2, Pawar Nagar, Thane West',\n",
              " 'Location')"
            ]
          },
          "metadata": {},
          "execution_count": 272
        }
      ]
    },
    {
      "cell_type": "code",
      "source": [
        "# 3\n",
        "# 2 loc\n",
        "# New text sentence to classify\n",
        "new_sentence = \"WING-E, 13-14, Off, New Link Rd, opp. Movie Time Cinema, Evershine Nagar, Malad West\"\n",
        "\n",
        "classify_sentence(model, tokenizer, new_sentence)"
      ],
      "metadata": {
        "id": "8IFYE49zUi4e",
        "colab": {
          "base_uri": "https://localhost:8080/"
        },
        "outputId": "0d635b83-7df5-4795-99ee-c770234448b6"
      },
      "execution_count": null,
      "outputs": [
        {
          "output_type": "stream",
          "name": "stdout",
          "text": [
            "1/1 [==============================] - 0s 20ms/step\n"
          ]
        },
        {
          "output_type": "execute_result",
          "data": {
            "text/plain": [
              "('WING-E, 13-14, Off, New Link Rd, opp. Movie Time Cinema, Evershine Nagar, Malad West',\n",
              " 'Text')"
            ]
          },
          "metadata": {},
          "execution_count": 273
        }
      ]
    },
    {
      "cell_type": "code",
      "source": [
        "# 4\n",
        "# 2 text\n",
        "# New text sentence to classify\n",
        "new_sentence = \"twinkle twinkel in the, sky like a star, shining bright Road\"\n",
        "\n",
        "classify_sentence(model, tokenizer, new_sentence)"
      ],
      "metadata": {
        "id": "bovtJPs4Upwq",
        "colab": {
          "base_uri": "https://localhost:8080/"
        },
        "outputId": "b19fc30e-5ec5-4d02-d4e8-9611ba894cbe"
      },
      "execution_count": null,
      "outputs": [
        {
          "output_type": "stream",
          "name": "stdout",
          "text": [
            "1/1 [==============================] - 0s 20ms/step\n"
          ]
        },
        {
          "output_type": "execute_result",
          "data": {
            "text/plain": [
              "('twinkle twinkel in the, sky like a star, shining bright Road', 'Text')"
            ]
          },
          "metadata": {},
          "execution_count": 274
        }
      ]
    },
    {
      "cell_type": "code",
      "source": [
        "# 5\n",
        "# 3 text\n",
        "# New text sentence to classify\n",
        "new_sentence = \"twinkle twinkel in the, West a star, shining bright Road, Sky West\"\n",
        "\n",
        "classify_sentence(model, tokenizer, new_sentence)"
      ],
      "metadata": {
        "id": "JdzlQHqgUuDU",
        "colab": {
          "base_uri": "https://localhost:8080/"
        },
        "outputId": "b1a53130-cbc5-48f6-d0a7-a00908a5b16b"
      },
      "execution_count": null,
      "outputs": [
        {
          "output_type": "stream",
          "name": "stdout",
          "text": [
            "1/1 [==============================] - 0s 20ms/step\n"
          ]
        },
        {
          "output_type": "execute_result",
          "data": {
            "text/plain": [
              "('twinkle twinkel in the, West a star, shining bright Road, Sky West',\n",
              " 'Location')"
            ]
          },
          "metadata": {},
          "execution_count": 275
        }
      ]
    },
    {
      "cell_type": "code",
      "source": [
        "# 6\n",
        "# 4 text\n",
        "# New text sentence to classify\n",
        "new_sentence = \"Gaata Rahe Mera Dil, Tu hi Meri Manzil, Alpha Beta Store, Gamma\"\n",
        "\n",
        "classify_sentence(model, tokenizer, new_sentence)"
      ],
      "metadata": {
        "id": "P2qGKT-LU0ls",
        "colab": {
          "base_uri": "https://localhost:8080/"
        },
        "outputId": "37adc0b0-6967-4a93-b124-31bfe793a793"
      },
      "execution_count": null,
      "outputs": [
        {
          "output_type": "stream",
          "name": "stdout",
          "text": [
            "1/1 [==============================] - 0s 21ms/step\n"
          ]
        },
        {
          "output_type": "execute_result",
          "data": {
            "text/plain": [
              "('Gaata Rahe Mera Dil, Tu hi Meri Manzil, Alpha Beta Store, Gamma', 'Text')"
            ]
          },
          "metadata": {},
          "execution_count": 276
        }
      ]
    },
    {
      "cell_type": "code",
      "source": [
        "# 7\n",
        "# 3 loc\n",
        "# New text sentence to classify\n",
        "new_sentence = \"Office no. 39, P. M. Road, Next to Santacruz Station, Santacruz (West)\"\n",
        "\n",
        "classify_sentence(model, tokenizer, new_sentence)"
      ],
      "metadata": {
        "id": "UEDYqXBgU6dN",
        "colab": {
          "base_uri": "https://localhost:8080/"
        },
        "outputId": "4b9abe9c-34a2-4248-f920-8a1c004c53cd"
      },
      "execution_count": null,
      "outputs": [
        {
          "output_type": "stream",
          "name": "stdout",
          "text": [
            "1/1 [==============================] - 0s 20ms/step\n"
          ]
        },
        {
          "output_type": "execute_result",
          "data": {
            "text/plain": [
              "('Office no. 39, P. M. Road, Next to Santacruz Station, Santacruz (West)',\n",
              " 'Text')"
            ]
          },
          "metadata": {},
          "execution_count": 277
        }
      ]
    },
    {
      "cell_type": "code",
      "source": [
        "# 8\n",
        "# 4 loc\n",
        "# New text sentence to classify\n",
        "new_sentence = \"505, Manuel Gonsalves Rd, Near St. Joseph's Convent, Bandra West\"\n",
        "\n",
        "classify_sentence(model, tokenizer, new_sentence)"
      ],
      "metadata": {
        "id": "lKV0q58KXCUE",
        "colab": {
          "base_uri": "https://localhost:8080/"
        },
        "outputId": "285d23bf-c92b-42bf-9336-a873ee294e07"
      },
      "execution_count": null,
      "outputs": [
        {
          "output_type": "stream",
          "name": "stdout",
          "text": [
            "1/1 [==============================] - 0s 20ms/step\n"
          ]
        },
        {
          "output_type": "execute_result",
          "data": {
            "text/plain": [
              "(\"505, Manuel Gonsalves Rd, Near St. Joseph's Convent, Bandra West\", 'Text')"
            ]
          },
          "metadata": {},
          "execution_count": 278
        }
      ]
    },
    {
      "cell_type": "code",
      "source": [
        "# 9\n",
        "# 5 loc\n",
        "# New text sentence to classify\n",
        "new_sentence = \"7, Grant Plaza, Vasai\"\n",
        "\n",
        "classify_sentence(model, tokenizer, new_sentence)"
      ],
      "metadata": {
        "id": "aNQxeKHOXHhf",
        "colab": {
          "base_uri": "https://localhost:8080/"
        },
        "outputId": "b3d54add-038e-4c2b-d700-099452e25be7"
      },
      "execution_count": null,
      "outputs": [
        {
          "output_type": "stream",
          "name": "stdout",
          "text": [
            "1/1 [==============================] - 0s 24ms/step\n"
          ]
        },
        {
          "output_type": "execute_result",
          "data": {
            "text/plain": [
              "('7, Grant Plaza, Vasai', 'Text')"
            ]
          },
          "metadata": {},
          "execution_count": 279
        }
      ]
    },
    {
      "cell_type": "code",
      "source": [
        "# 10\n",
        "# 6 loc\n",
        "new_sentence = \"Apollo Bandar, Colaba\"\n",
        "\n",
        "classify_sentence(model, tokenizer, new_sentence)"
      ],
      "metadata": {
        "id": "IECZmr6uXN7l",
        "colab": {
          "base_uri": "https://localhost:8080/"
        },
        "outputId": "a3569d6e-ad81-46fb-ce5f-c32b860e6171"
      },
      "execution_count": null,
      "outputs": [
        {
          "output_type": "stream",
          "name": "stdout",
          "text": [
            "1/1 [==============================] - 0s 19ms/step\n"
          ]
        },
        {
          "output_type": "execute_result",
          "data": {
            "text/plain": [
              "('Apollo Bandar, Colaba', 'Text')"
            ]
          },
          "metadata": {},
          "execution_count": 280
        }
      ]
    },
    {
      "cell_type": "code",
      "source": [
        "# 11\n",
        "# 5 text\n",
        "new_sentence = \"one , Word, Two Word, Three\"\n",
        "\n",
        "classify_sentence(model, tokenizer, new_sentence)"
      ],
      "metadata": {
        "id": "gzzuSCPoXg8Y",
        "colab": {
          "base_uri": "https://localhost:8080/"
        },
        "outputId": "459ddbd9-0c26-4334-bf88-5c2899ac7ad9"
      },
      "execution_count": null,
      "outputs": [
        {
          "output_type": "stream",
          "name": "stdout",
          "text": [
            "1/1 [==============================] - 0s 27ms/step\n"
          ]
        },
        {
          "output_type": "execute_result",
          "data": {
            "text/plain": [
              "('one , Word, Two Word, Three', 'Text')"
            ]
          },
          "metadata": {},
          "execution_count": 281
        }
      ]
    },
    {
      "cell_type": "code",
      "source": [
        "# 12\n",
        "# 6 text\n",
        "new_sentence = \"Twinkle Road , Star West, Shining Alley\"\n",
        "\n",
        "classify_sentence(model, tokenizer, new_sentence)"
      ],
      "metadata": {
        "id": "eczrrYFmXm2p",
        "colab": {
          "base_uri": "https://localhost:8080/"
        },
        "outputId": "c7ff0faf-d867-4d52-f884-87a771ed1fd8"
      },
      "execution_count": null,
      "outputs": [
        {
          "output_type": "stream",
          "name": "stdout",
          "text": [
            "1/1 [==============================] - 0s 19ms/step\n"
          ]
        },
        {
          "output_type": "execute_result",
          "data": {
            "text/plain": [
              "('Twinkle Road , Star West, Shining Alley', 'Text')"
            ]
          },
          "metadata": {},
          "execution_count": 282
        }
      ]
    },
    {
      "cell_type": "code",
      "source": [
        "# 13\n",
        "# 7 text\n",
        "# New text sentence to classify\n",
        "new_sentence = \"Twinkle Twinkel Alley, A Star West, Shining Bright Road\"\n",
        "\n",
        "classify_sentence(model, tokenizer, new_sentence)"
      ],
      "metadata": {
        "id": "yGj2647JXrSS",
        "colab": {
          "base_uri": "https://localhost:8080/"
        },
        "outputId": "99b8a02e-c4e3-43f9-b52e-12e7d5f21ed7"
      },
      "execution_count": null,
      "outputs": [
        {
          "output_type": "stream",
          "name": "stdout",
          "text": [
            "1/1 [==============================] - 0s 25ms/step\n"
          ]
        },
        {
          "output_type": "execute_result",
          "data": {
            "text/plain": [
              "('Twinkle Twinkel Alley, A Star West, Shining Bright Road', 'Text')"
            ]
          },
          "metadata": {},
          "execution_count": 283
        }
      ]
    },
    {
      "cell_type": "code",
      "source": [
        "# 14\n",
        "# 7 loc\n",
        "# New text sentence to classify\n",
        "new_sentence = \"19th Floor, Concorde Tower C, UB City, Vittal Mallya Road\"\n",
        "\n",
        "classify_sentence(model, tokenizer, new_sentence)"
      ],
      "metadata": {
        "id": "2HdrV5bWXytu",
        "colab": {
          "base_uri": "https://localhost:8080/"
        },
        "outputId": "356dd604-80f7-40be-af5c-5ff4c9e972c7"
      },
      "execution_count": null,
      "outputs": [
        {
          "output_type": "stream",
          "name": "stdout",
          "text": [
            "1/1 [==============================] - 0s 21ms/step\n"
          ]
        },
        {
          "output_type": "execute_result",
          "data": {
            "text/plain": [
              "('19th Floor, Concorde Tower C, UB City, Vittal Mallya Road', 'Text')"
            ]
          },
          "metadata": {},
          "execution_count": 284
        }
      ]
    },
    {
      "cell_type": "code",
      "source": [
        "# 15\n",
        "# 8 text\n",
        "# New text sentence to classify\n",
        "new_sentence = \"Some Av, Some Road, Some West, East\"\n",
        "\n",
        "classify_sentence(model, tokenizer, new_sentence)"
      ],
      "metadata": {
        "id": "EL5UKEjaX963",
        "colab": {
          "base_uri": "https://localhost:8080/"
        },
        "outputId": "c6b884ff-6d7c-412a-879a-f28e47dcb2d5"
      },
      "execution_count": null,
      "outputs": [
        {
          "output_type": "stream",
          "name": "stdout",
          "text": [
            "1/1 [==============================] - 0s 20ms/step\n"
          ]
        },
        {
          "output_type": "execute_result",
          "data": {
            "text/plain": [
              "('Some Av, Some Road, Some West, East', 'Text')"
            ]
          },
          "metadata": {},
          "execution_count": 285
        }
      ]
    },
    {
      "cell_type": "code",
      "source": [
        "# 16\n",
        "# 8 loc\n",
        "# New text sentence to classify\n",
        "new_sentence = \"Spectrum Tower, A-102, WeWork , New Link Rd, Malad West\"\n",
        "\n",
        "classify_sentence(model, tokenizer, new_sentence)"
      ],
      "metadata": {
        "id": "X475m8igYDtg",
        "colab": {
          "base_uri": "https://localhost:8080/"
        },
        "outputId": "577c7a6f-e04a-46cf-81aa-917b7842848b"
      },
      "execution_count": null,
      "outputs": [
        {
          "output_type": "stream",
          "name": "stdout",
          "text": [
            "1/1 [==============================] - 0s 22ms/step\n"
          ]
        },
        {
          "output_type": "execute_result",
          "data": {
            "text/plain": [
              "('Spectrum Tower, A-102, WeWork , New Link Rd, Malad West', 'Text')"
            ]
          },
          "metadata": {},
          "execution_count": 286
        }
      ]
    },
    {
      "cell_type": "code",
      "source": [
        "# 17\n",
        "# 9 text\n",
        "# New text sentence to classify\n",
        "new_sentence = \"Someeeeeeeeeeeeee randommm, Randommmmmmmmmmmmmm Streeeeeeeeeeeet\"\n",
        "\n",
        "classify_sentence(model, tokenizer, new_sentence)"
      ],
      "metadata": {
        "id": "m6HwLEUvYJIX",
        "colab": {
          "base_uri": "https://localhost:8080/"
        },
        "outputId": "7cc2e2ac-f9ed-438c-d19b-994e31debfa8"
      },
      "execution_count": null,
      "outputs": [
        {
          "output_type": "stream",
          "name": "stdout",
          "text": [
            "1/1 [==============================] - 0s 23ms/step\n"
          ]
        },
        {
          "output_type": "execute_result",
          "data": {
            "text/plain": [
              "('Someeeeeeeeeeeeee randommm, Randommmmmmmmmmmmmm Streeeeeeeeeeeet', 'Text')"
            ]
          },
          "metadata": {},
          "execution_count": 287
        }
      ]
    },
    {
      "cell_type": "code",
      "source": [
        "# 18\n",
        "# 10 text\n",
        "# New text sentence to classify\n",
        "new_sentence = \"Some random, Randommmmmmmmmmmmmm Streeeeeeeeeeeet\"\n",
        "\n",
        "classify_sentence(model, tokenizer, new_sentence)"
      ],
      "metadata": {
        "id": "j8R6CNssYPRH",
        "colab": {
          "base_uri": "https://localhost:8080/"
        },
        "outputId": "67b31a10-ab69-4eb6-cd17-d17720396ae4"
      },
      "execution_count": null,
      "outputs": [
        {
          "output_type": "stream",
          "name": "stdout",
          "text": [
            "1/1 [==============================] - 0s 28ms/step\n"
          ]
        },
        {
          "output_type": "execute_result",
          "data": {
            "text/plain": [
              "('Some random, Randommmmmmmmmmmmmm Streeeeeeeeeeeet', 'Text')"
            ]
          },
          "metadata": {},
          "execution_count": 288
        }
      ]
    },
    {
      "cell_type": "code",
      "source": [
        "# 19\n",
        "# 11 text\n",
        "# New text sentence to classify\n",
        "new_sentence = \"Some randomnmnm, Normal distribution Streeeeeeeeeeeet, City t-test\"\n",
        "\n",
        "classify_sentence(model, tokenizer, new_sentence)"
      ],
      "metadata": {
        "id": "YaLuiQniYbIp",
        "colab": {
          "base_uri": "https://localhost:8080/"
        },
        "outputId": "af8a05a1-7b22-4b19-caa3-5d85f740d99e"
      },
      "execution_count": null,
      "outputs": [
        {
          "output_type": "stream",
          "name": "stdout",
          "text": [
            "1/1 [==============================] - 0s 21ms/step\n"
          ]
        },
        {
          "output_type": "execute_result",
          "data": {
            "text/plain": [
              "('Some randomnmnm, Normal distribution Streeeeeeeeeeeet, City t-test', 'Text')"
            ]
          },
          "metadata": {},
          "execution_count": 289
        }
      ]
    },
    {
      "cell_type": "code",
      "source": [
        "# 20\n",
        "# 9 loc\n",
        "# New text sentence to classify\n",
        "new_sentence = \"FIFC Building Level 7 Plot, C 54&55 G Block BKC Bandra East\"\n",
        "\n",
        "classify_sentence(model, tokenizer, new_sentence)"
      ],
      "metadata": {
        "id": "r2mQ-3eZYggR",
        "colab": {
          "base_uri": "https://localhost:8080/"
        },
        "outputId": "12fdad38-42b2-4cca-82d6-28ed64a48fde"
      },
      "execution_count": null,
      "outputs": [
        {
          "output_type": "stream",
          "name": "stdout",
          "text": [
            "1/1 [==============================] - 0s 19ms/step\n"
          ]
        },
        {
          "output_type": "execute_result",
          "data": {
            "text/plain": [
              "('FIFC Building Level 7 Plot, C 54&55 G Block BKC Bandra East', 'Location')"
            ]
          },
          "metadata": {},
          "execution_count": 290
        }
      ]
    },
    {
      "cell_type": "code",
      "source": [
        "# 21\n",
        "# 10 loc\n",
        "# New text sentence to classify\n",
        "new_sentence = \"702, Western Express Highway, Near PVR Cinema, Malad\"\n",
        "\n",
        "classify_sentence(model, tokenizer, new_sentence)"
      ],
      "metadata": {
        "id": "I-5QIO3nYlSL",
        "colab": {
          "base_uri": "https://localhost:8080/"
        },
        "outputId": "f1774cd4-c172-40cb-dc07-5cda835f30a0"
      },
      "execution_count": null,
      "outputs": [
        {
          "output_type": "stream",
          "name": "stdout",
          "text": [
            "1/1 [==============================] - 0s 27ms/step\n"
          ]
        },
        {
          "output_type": "execute_result",
          "data": {
            "text/plain": [
              "('702, Western Express Highway, Near PVR Cinema, Malad', 'Text')"
            ]
          },
          "metadata": {},
          "execution_count": 291
        }
      ]
    },
    {
      "cell_type": "code",
      "source": [
        "# 22\n",
        "# 11 loc\n",
        "# New text sentence to classify\n",
        "new_sentence = \"FIFC Building Level 7 Plot, C 54&55 G Block BKC Bandra \"\n",
        "\n",
        "classify_sentence(model, tokenizer, new_sentence)"
      ],
      "metadata": {
        "id": "wTDGjJmqYrBh",
        "colab": {
          "base_uri": "https://localhost:8080/"
        },
        "outputId": "f4fc381a-bf16-4d30-da4e-050158af9862"
      },
      "execution_count": null,
      "outputs": [
        {
          "output_type": "stream",
          "name": "stdout",
          "text": [
            "1/1 [==============================] - 0s 34ms/step\n"
          ]
        },
        {
          "output_type": "execute_result",
          "data": {
            "text/plain": [
              "('FIFC Building Level 7 Plot, C 54&55 G Block BKC Bandra ', 'Location')"
            ]
          },
          "metadata": {},
          "execution_count": 292
        }
      ]
    },
    {
      "cell_type": "code",
      "source": [
        "# 23\n",
        "# 12 loc\n",
        "# New text sentence to classify\n",
        "new_sentence = \"HSBC Building, C – 534A, Ground Floor, Dr. Ambedkar Road, Pali Hill, Bandra\"\n",
        "\n",
        "classify_sentence(model, tokenizer, new_sentence)"
      ],
      "metadata": {
        "id": "OJA4Y_h0Kgyu",
        "colab": {
          "base_uri": "https://localhost:8080/"
        },
        "outputId": "ef51c14d-9e58-4380-e4f9-7b64ae21bb4b"
      },
      "execution_count": null,
      "outputs": [
        {
          "output_type": "stream",
          "name": "stdout",
          "text": [
            "1/1 [==============================] - 0s 47ms/step\n"
          ]
        },
        {
          "output_type": "execute_result",
          "data": {
            "text/plain": [
              "('HSBC Building, C – 534A, Ground Floor, Dr. Ambedkar Road, Pali Hill, Bandra',\n",
              " 'Location')"
            ]
          },
          "metadata": {},
          "execution_count": 293
        }
      ]
    },
    {
      "cell_type": "code",
      "source": [
        "# 24\n",
        "# 13 loc\n",
        "# New text sentence to classify\n",
        "new_sentence = \"GROUND FLOOR, VIOS TOWER, B-02, off Eastern Freeway, near WADALA TRUCK TERMINAL, Wadala\"\n",
        "\n",
        "classify_sentence(model, tokenizer, new_sentence)"
      ],
      "metadata": {
        "id": "yT8HRP9DLi1L",
        "colab": {
          "base_uri": "https://localhost:8080/"
        },
        "outputId": "55c53c93-fdad-4e26-dd23-8d055c17c2d9"
      },
      "execution_count": null,
      "outputs": [
        {
          "output_type": "stream",
          "name": "stdout",
          "text": [
            "1/1 [==============================] - 0s 30ms/step\n"
          ]
        },
        {
          "output_type": "execute_result",
          "data": {
            "text/plain": [
              "('GROUND FLOOR, VIOS TOWER, B-02, off Eastern Freeway, near WADALA TRUCK TERMINAL, Wadala',\n",
              " 'Location')"
            ]
          },
          "metadata": {},
          "execution_count": 294
        }
      ]
    },
    {
      "cell_type": "code",
      "source": [
        "# 25\n",
        "# 14 loc\n",
        "# New text sentence to classify\n",
        "new_sentence = \"Shop No. 6, Labaik House, Chimbai Rd, near St. Andrew's Church, Bandra \"\n",
        "\n",
        "classify_sentence(model, tokenizer, new_sentence)"
      ],
      "metadata": {
        "id": "jGmIHq-sLyaV",
        "colab": {
          "base_uri": "https://localhost:8080/"
        },
        "outputId": "a18e4faf-d36b-404a-8ad2-7807ab56f365"
      },
      "execution_count": null,
      "outputs": [
        {
          "output_type": "stream",
          "name": "stdout",
          "text": [
            "1/1 [==============================] - 0s 37ms/step\n"
          ]
        },
        {
          "output_type": "execute_result",
          "data": {
            "text/plain": [
              "(\"Shop No. 6, Labaik House, Chimbai Rd, near St. Andrew's Church, Bandra \",\n",
              " 'Text')"
            ]
          },
          "metadata": {},
          "execution_count": 295
        }
      ]
    },
    {
      "cell_type": "code",
      "source": [
        "# 26\n",
        "# 15 loc\n",
        "# New text sentence to classify\n",
        "new_sentence = \"Gopi tank road, near The Beer cafe, lane opp Mahim Post office\"\n",
        "\n",
        "classify_sentence(model, tokenizer, new_sentence)"
      ],
      "metadata": {
        "id": "oEZfTTnAMTV_",
        "colab": {
          "base_uri": "https://localhost:8080/"
        },
        "outputId": "5c0e6e7a-eb1e-4bc3-8041-5a4942b74eed"
      },
      "execution_count": null,
      "outputs": [
        {
          "output_type": "stream",
          "name": "stdout",
          "text": [
            "1/1 [==============================] - 0s 29ms/step\n"
          ]
        },
        {
          "output_type": "execute_result",
          "data": {
            "text/plain": [
              "('Gopi tank road, near The Beer cafe, lane opp Mahim Post office', 'Location')"
            ]
          },
          "metadata": {},
          "execution_count": 296
        }
      ]
    },
    {
      "cell_type": "code",
      "source": [
        "# 27\n",
        "# 12 text\n",
        "# New text sentence to classify\n",
        "new_sentence = \"Hum us desh ke wasi, hai jis desh me, ganga behti West\"\n",
        "\n",
        "classify_sentence(model, tokenizer, new_sentence)"
      ],
      "metadata": {
        "id": "LeT8aUVrMcSn",
        "colab": {
          "base_uri": "https://localhost:8080/"
        },
        "outputId": "3ddedfa4-2879-4d87-8c87-2bb4065b5fd9"
      },
      "execution_count": null,
      "outputs": [
        {
          "output_type": "stream",
          "name": "stdout",
          "text": [
            "1/1 [==============================] - 0s 31ms/step\n"
          ]
        },
        {
          "output_type": "execute_result",
          "data": {
            "text/plain": [
              "('Hum us desh ke wasi, hai jis desh me, ganga behti West', 'Text')"
            ]
          },
          "metadata": {},
          "execution_count": 297
        }
      ]
    },
    {
      "cell_type": "code",
      "source": [
        "# 28\n",
        "# 13 text\n",
        "# New text sentence to classify\n",
        "new_sentence = \"Woh sikander MAll, let it go East,\"\n",
        "\n",
        "classify_sentence(model, tokenizer, new_sentence)"
      ],
      "metadata": {
        "id": "XE4xgOdoMwMk",
        "colab": {
          "base_uri": "https://localhost:8080/"
        },
        "outputId": "48ec352f-418b-416d-94bc-a36cf97139fd"
      },
      "execution_count": null,
      "outputs": [
        {
          "output_type": "stream",
          "name": "stdout",
          "text": [
            "1/1 [==============================] - 0s 30ms/step\n"
          ]
        },
        {
          "output_type": "execute_result",
          "data": {
            "text/plain": [
              "('Woh sikander MAll, let it go East,', 'Text')"
            ]
          },
          "metadata": {},
          "execution_count": 298
        }
      ]
    },
    {
      "cell_type": "code",
      "source": [
        "# 29\n",
        "# 14 text\n",
        "# New text sentence to classify\n",
        "new_sentence = \"Rudolf club, New Years Park, IsJustAround West\"\n",
        "\n",
        "classify_sentence(model, tokenizer, new_sentence)"
      ],
      "metadata": {
        "id": "X-LSAP8HM0fm",
        "colab": {
          "base_uri": "https://localhost:8080/"
        },
        "outputId": "e429bb33-76e7-4f43-eb22-1a06d3baa9b0"
      },
      "execution_count": null,
      "outputs": [
        {
          "output_type": "stream",
          "name": "stdout",
          "text": [
            "1/1 [==============================] - 0s 30ms/step\n"
          ]
        },
        {
          "output_type": "execute_result",
          "data": {
            "text/plain": [
              "('Rudolf club, New Years Park, IsJustAround West', 'Text')"
            ]
          },
          "metadata": {},
          "execution_count": 299
        }
      ]
    },
    {
      "cell_type": "code",
      "source": [
        "# 30\n",
        "# 15 text\n",
        "# New text sentence to classify\n",
        "new_sentence = \"Rudolf club, New Years Park, IsJust Around, West\"\n",
        "\n",
        "classify_sentence(model, tokenizer, new_sentence)"
      ],
      "metadata": {
        "id": "a-lvN8MmPL55",
        "colab": {
          "base_uri": "https://localhost:8080/"
        },
        "outputId": "ac2dd47e-85a2-4190-effe-f35748471c13"
      },
      "execution_count": null,
      "outputs": [
        {
          "output_type": "stream",
          "name": "stdout",
          "text": [
            "1/1 [==============================] - 0s 35ms/step\n"
          ]
        },
        {
          "output_type": "execute_result",
          "data": {
            "text/plain": [
              "('Rudolf club, New Years Park, IsJust Around, West', 'Location')"
            ]
          },
          "metadata": {},
          "execution_count": 300
        }
      ]
    },
    {
      "cell_type": "code",
      "source": [],
      "metadata": {
        "id": "uQ3Nf8KbPSSz"
      },
      "execution_count": null,
      "outputs": []
    },
    {
      "cell_type": "code",
      "source": [
        "# 33\n",
        "# 17 loc\n",
        "# New text sentence to classify\n",
        "new_sentence = '3rd Floor, Lakshmi Associates, Gandhi Bazaar Main Road, Above Reliance Trends'\n",
        "\n",
        "classify_sentence(model, tokenizer, new_sentence)"
      ],
      "metadata": {
        "id": "-6DoNxHfkuKe",
        "colab": {
          "base_uri": "https://localhost:8080/"
        },
        "outputId": "036c8c62-74a9-4926-900e-2de95301a41c"
      },
      "execution_count": null,
      "outputs": [
        {
          "output_type": "stream",
          "name": "stdout",
          "text": [
            "1/1 [==============================] - 0s 29ms/step\n"
          ]
        },
        {
          "output_type": "execute_result",
          "data": {
            "text/plain": [
              "('3rd Floor, Lakshmi Associates, Gandhi Bazaar Main Road, Above Reliance Trends',\n",
              " 'Text')"
            ]
          },
          "metadata": {},
          "execution_count": 301
        }
      ]
    },
    {
      "cell_type": "code",
      "source": [
        "# 33\n",
        "# 17 loc\n",
        "# New text sentence to classify\n",
        "new_sentence = '501, New Friends Building, Junction of KC Marg, Off Bazaar Road, Bnadra West'\n",
        "\n",
        "classify_sentence(model, tokenizer, new_sentence)"
      ],
      "metadata": {
        "id": "28kQK4db3Jg3",
        "colab": {
          "base_uri": "https://localhost:8080/"
        },
        "outputId": "cebab7c8-cafc-4fac-d595-68e539fd10b2"
      },
      "execution_count": null,
      "outputs": [
        {
          "output_type": "stream",
          "name": "stdout",
          "text": [
            "1/1 [==============================] - 0s 36ms/step\n"
          ]
        },
        {
          "output_type": "execute_result",
          "data": {
            "text/plain": [
              "('501, New Friends Building, Junction of KC Marg, Off Bazaar Road, Bnadra West',\n",
              " 'Location')"
            ]
          },
          "metadata": {},
          "execution_count": 302
        }
      ]
    },
    {
      "cell_type": "code",
      "source": [
        "# 33\n",
        "# 17 loc\n",
        "# New text sentence to classify\n",
        "new_sentence = 'University of Mumbai, Vidya Nagari, Kalina, Santacruz East'\n",
        "\n",
        "classify_sentence(model, tokenizer, new_sentence)"
      ],
      "metadata": {
        "id": "_QL6mPrl3HYO",
        "colab": {
          "base_uri": "https://localhost:8080/"
        },
        "outputId": "6e9924eb-5e56-4302-eafe-83ed6f68c0e5"
      },
      "execution_count": null,
      "outputs": [
        {
          "output_type": "stream",
          "name": "stdout",
          "text": [
            "1/1 [==============================] - 0s 29ms/step\n"
          ]
        },
        {
          "output_type": "execute_result",
          "data": {
            "text/plain": [
              "('University of Mumbai, Vidya Nagari, Kalina, Santacruz East', 'Text')"
            ]
          },
          "metadata": {},
          "execution_count": 303
        }
      ]
    },
    {
      "cell_type": "code",
      "source": [
        "# 33\n",
        "# 17 loc\n",
        "# New text sentence to classify\n",
        "new_sentence = 'Spectrum Tower, A-102, Wework, New Link Rd, Malad West'\n",
        "\n",
        "classify_sentence(model, tokenizer, new_sentence)"
      ],
      "metadata": {
        "id": "riNVAJZv3FFg",
        "colab": {
          "base_uri": "https://localhost:8080/"
        },
        "outputId": "a6963884-a156-46f0-e2fa-341dcbb3d9b0"
      },
      "execution_count": null,
      "outputs": [
        {
          "output_type": "stream",
          "name": "stdout",
          "text": [
            "1/1 [==============================] - 0s 29ms/step\n"
          ]
        },
        {
          "output_type": "execute_result",
          "data": {
            "text/plain": [
              "('Spectrum Tower, A-102, Wework, New Link Rd, Malad West', 'Text')"
            ]
          },
          "metadata": {},
          "execution_count": 304
        }
      ]
    },
    {
      "cell_type": "code",
      "source": [
        "# 33\n",
        "# 17 loc\n",
        "# New text sentence to classify\n",
        "new_sentence = 'Shop No 101, 1st Floor Hill Road, Bandra West Next to St Stanislaus School'\n",
        "\n",
        "classify_sentence(model, tokenizer, new_sentence)"
      ],
      "metadata": {
        "id": "VF8H57-l3CNT",
        "colab": {
          "base_uri": "https://localhost:8080/"
        },
        "outputId": "1d8622dd-7782-48f9-a3a4-196d04744d20"
      },
      "execution_count": null,
      "outputs": [
        {
          "output_type": "stream",
          "name": "stdout",
          "text": [
            "1/1 [==============================] - 0s 30ms/step\n"
          ]
        },
        {
          "output_type": "execute_result",
          "data": {
            "text/plain": [
              "('Shop No 101, 1st Floor Hill Road, Bandra West Next to St Stanislaus School',\n",
              " 'Location')"
            ]
          },
          "metadata": {},
          "execution_count": 305
        }
      ]
    },
    {
      "cell_type": "code",
      "source": [
        "# 33\n",
        "# 17 loc\n",
        "# New text sentence to classify\n",
        "new_sentence = '505, Manuel Gonsalves Rd, Bandra West'\n",
        "\n",
        "classify_sentence(model, tokenizer, new_sentence)"
      ],
      "metadata": {
        "id": "oMCoFUP93AGy",
        "colab": {
          "base_uri": "https://localhost:8080/"
        },
        "outputId": "0d3a570b-182e-45dd-b6ad-267c6f9dd1a4"
      },
      "execution_count": null,
      "outputs": [
        {
          "output_type": "stream",
          "name": "stdout",
          "text": [
            "1/1 [==============================] - 0s 30ms/step\n"
          ]
        },
        {
          "output_type": "execute_result",
          "data": {
            "text/plain": [
              "('505, Manuel Gonsalves Rd, Bandra West', 'Text')"
            ]
          },
          "metadata": {},
          "execution_count": 306
        }
      ]
    },
    {
      "cell_type": "code",
      "source": [
        "# 33\n",
        "# 17 loc\n",
        "# New text sentence to classify\n",
        "new_sentence = 'WING-E, 13-14, Off, New Link Rd, opp. Movie Time Cinema, Evershine Nagar, Malad West'\n",
        "\n",
        "classify_sentence(model, tokenizer, new_sentence)"
      ],
      "metadata": {
        "id": "nhB59g8O28sO",
        "colab": {
          "base_uri": "https://localhost:8080/"
        },
        "outputId": "e6284b36-a039-4c07-97bd-ad8c86a1f651"
      },
      "execution_count": null,
      "outputs": [
        {
          "output_type": "stream",
          "name": "stdout",
          "text": [
            "1/1 [==============================] - 0s 33ms/step\n"
          ]
        },
        {
          "output_type": "execute_result",
          "data": {
            "text/plain": [
              "('WING-E, 13-14, Off, New Link Rd, opp. Movie Time Cinema, Evershine Nagar, Malad West',\n",
              " 'Text')"
            ]
          },
          "metadata": {},
          "execution_count": 307
        }
      ]
    },
    {
      "cell_type": "code",
      "source": [
        "# 33\n",
        "# 17 loc\n",
        "# New text sentence to classify\n",
        "new_sentence = '505, zdrtghjui Gonsalves Rd, Bandra West'\n",
        "\n",
        "classify_sentence(model, tokenizer, new_sentence)"
      ],
      "metadata": {
        "id": "twR0LT8F25TW",
        "colab": {
          "base_uri": "https://localhost:8080/"
        },
        "outputId": "73d10738-cc06-4784-8039-7ee0bf75c150"
      },
      "execution_count": null,
      "outputs": [
        {
          "output_type": "stream",
          "name": "stdout",
          "text": [
            "1/1 [==============================] - 0s 29ms/step\n"
          ]
        },
        {
          "output_type": "execute_result",
          "data": {
            "text/plain": [
              "('505, zdrtghjui Gonsalves Rd, Bandra West', 'Text')"
            ]
          },
          "metadata": {},
          "execution_count": 308
        }
      ]
    },
    {
      "cell_type": "code",
      "source": [
        "# 33\n",
        "# 17 loc\n",
        "# New text sentence to classify\n",
        "new_sentence = '7, ertyuiopjhbvc, Grant Plaza,Vasai, Mumbai, Maharashtra'\n",
        "\n",
        "classify_sentence(model, tokenizer, new_sentence)"
      ],
      "metadata": {
        "id": "lM5QARoG22_d",
        "colab": {
          "base_uri": "https://localhost:8080/"
        },
        "outputId": "9923e209-2f7f-4414-f1c7-a4dac0b3fd1c"
      },
      "execution_count": null,
      "outputs": [
        {
          "output_type": "stream",
          "name": "stdout",
          "text": [
            "1/1 [==============================] - 0s 28ms/step\n"
          ]
        },
        {
          "output_type": "execute_result",
          "data": {
            "text/plain": [
              "('7, ertyuiopjhbvc, Grant Plaza,Vasai, Mumbai, Maharashtra', 'Text')"
            ]
          },
          "metadata": {},
          "execution_count": 309
        }
      ]
    },
    {
      "cell_type": "code",
      "source": [
        "# 33\n",
        "# 17 loc\n",
        "# New text sentence to classify\n",
        "new_sentence = 'Suresh Complex, S.No-151/12/1, wqsdrtgfthnk - Kharadi Rd, Hadapsar'\n",
        "\n",
        "classify_sentence(model, tokenizer, new_sentence)"
      ],
      "metadata": {
        "id": "3sUlXOCf2rQ4",
        "colab": {
          "base_uri": "https://localhost:8080/"
        },
        "outputId": "976a25b1-79dd-4f9b-c2a8-67537b63b338"
      },
      "execution_count": null,
      "outputs": [
        {
          "output_type": "stream",
          "name": "stdout",
          "text": [
            "1/1 [==============================] - 0s 27ms/step\n"
          ]
        },
        {
          "output_type": "execute_result",
          "data": {
            "text/plain": [
              "('Suresh Complex, S.No-151/12/1, wqsdrtgfthnk - Kharadi Rd, Hadapsar',\n",
              " 'Location')"
            ]
          },
          "metadata": {},
          "execution_count": 310
        }
      ]
    },
    {
      "cell_type": "code",
      "source": [
        "# 33\n",
        "# 17 loc\n",
        "# New text sentence to classify\n",
        "new_sentence = 'Plot no. 53, WzzXYZ%$** Area, Sector 32'\n",
        "\n",
        "classify_sentence(model, tokenizer, new_sentence)"
      ],
      "metadata": {
        "id": "0qXKbiuI2ozM",
        "colab": {
          "base_uri": "https://localhost:8080/"
        },
        "outputId": "fc56905b-7df2-402d-cd80-c437fab09a70"
      },
      "execution_count": null,
      "outputs": [
        {
          "output_type": "stream",
          "name": "stdout",
          "text": [
            "1/1 [==============================] - 0s 36ms/step\n"
          ]
        },
        {
          "output_type": "execute_result",
          "data": {
            "text/plain": [
              "('Plot no. 53, WzzXYZ%$** Area, Sector 32', 'Text')"
            ]
          },
          "metadata": {},
          "execution_count": 311
        }
      ]
    },
    {
      "cell_type": "code",
      "source": [],
      "metadata": {
        "id": "sjDy2I2z3MEt"
      },
      "execution_count": null,
      "outputs": []
    }
  ]
}